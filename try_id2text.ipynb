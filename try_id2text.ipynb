{
 "cells": [
  {
   "cell_type": "code",
   "execution_count": 1,
   "id": "d5c225ef-fb53-42a4-aa5e-13f8e1fed1b7",
   "metadata": {},
   "outputs": [],
   "source": [
    "%load_ext autoreload\n",
    "%autoreload 2"
   ]
  },
  {
   "cell_type": "code",
   "execution_count": 2,
   "id": "09c5d08a-2705-4e81-a9b2-f12662abecf0",
   "metadata": {},
   "outputs": [
    {
     "name": "stdout",
     "output_type": "stream",
     "text": [
      "Requirement already satisfied: tweepy in /home/takakiyuto/anaconda3/lib/python3.8/site-packages (3.10.0)\n",
      "Requirement already satisfied: six>=1.10.0 in /home/takakiyuto/anaconda3/lib/python3.8/site-packages (from tweepy) (1.15.0)\n",
      "Requirement already satisfied: requests[socks]>=2.11.1 in /home/takakiyuto/anaconda3/lib/python3.8/site-packages (from tweepy) (2.25.1)\n",
      "Requirement already satisfied: requests-oauthlib>=0.7.0 in /home/takakiyuto/anaconda3/lib/python3.8/site-packages (from tweepy) (1.3.0)\n",
      "Requirement already satisfied: oauthlib>=3.0.0 in /home/takakiyuto/anaconda3/lib/python3.8/site-packages (from requests-oauthlib>=0.7.0->tweepy) (3.1.1)\n",
      "Requirement already satisfied: chardet<5,>=3.0.2 in /home/takakiyuto/anaconda3/lib/python3.8/site-packages (from requests[socks]>=2.11.1->tweepy) (4.0.0)\n",
      "Requirement already satisfied: urllib3<1.27,>=1.21.1 in /home/takakiyuto/anaconda3/lib/python3.8/site-packages (from requests[socks]>=2.11.1->tweepy) (1.26.4)\n",
      "Requirement already satisfied: idna<3,>=2.5 in /home/takakiyuto/anaconda3/lib/python3.8/site-packages (from requests[socks]>=2.11.1->tweepy) (2.10)\n",
      "Requirement already satisfied: certifi>=2017.4.17 in /home/takakiyuto/anaconda3/lib/python3.8/site-packages (from requests[socks]>=2.11.1->tweepy) (2020.12.5)\n",
      "Requirement already satisfied: PySocks!=1.5.7,>=1.5.6 in /home/takakiyuto/anaconda3/lib/python3.8/site-packages (from requests[socks]>=2.11.1->tweepy) (1.7.1)\n"
     ]
    }
   ],
   "source": [
    "!pip install tweepy"
   ]
  },
  {
   "cell_type": "code",
   "execution_count": 3,
   "id": "332aba59-7a48-48f1-9a7d-ae6a8e49b2dd",
   "metadata": {},
   "outputs": [],
   "source": [
    "import numpy as np\n",
    "import pandas as pd\n",
    "import matplotlib.pyplot as plt\n",
    "import seaborn as sns\n",
    "\n",
    "%matplotlib inline\n",
    "sns.set()"
   ]
  },
  {
   "cell_type": "markdown",
   "id": "e4b87106-bc14-450b-847e-7f4d6d4c11c3",
   "metadata": {},
   "source": [
    "## Read COVID-19 dataset"
   ]
  },
  {
   "cell_type": "code",
   "execution_count": 4,
   "id": "29e85d86-afe8-46cf-93f6-18e7c369985b",
   "metadata": {},
   "outputs": [
    {
     "name": "stdout",
     "output_type": "stream",
     "text": [
      "53639\n"
     ]
    },
    {
     "data": {
      "text/html": [
       "<div>\n",
       "<style scoped>\n",
       "    .dataframe tbody tr th:only-of-type {\n",
       "        vertical-align: middle;\n",
       "    }\n",
       "\n",
       "    .dataframe tbody tr th {\n",
       "        vertical-align: top;\n",
       "    }\n",
       "\n",
       "    .dataframe thead th {\n",
       "        text-align: right;\n",
       "    }\n",
       "</style>\n",
       "<table border=\"1\" class=\"dataframe\">\n",
       "  <thead>\n",
       "    <tr style=\"text-align: right;\">\n",
       "      <th></th>\n",
       "      <th>tweet_id</th>\n",
       "      <th>assessment_option_id</th>\n",
       "    </tr>\n",
       "  </thead>\n",
       "  <tbody>\n",
       "    <tr>\n",
       "      <th>0</th>\n",
       "      <td>1227261586521382913</td>\n",
       "      <td>63</td>\n",
       "    </tr>\n",
       "    <tr>\n",
       "      <th>1</th>\n",
       "      <td>1227435952961937413</td>\n",
       "      <td>65</td>\n",
       "    </tr>\n",
       "    <tr>\n",
       "      <th>2</th>\n",
       "      <td>1227510231569092610</td>\n",
       "      <td>63</td>\n",
       "    </tr>\n",
       "    <tr>\n",
       "      <th>3</th>\n",
       "      <td>1227527803312099328</td>\n",
       "      <td>63</td>\n",
       "    </tr>\n",
       "    <tr>\n",
       "      <th>4</th>\n",
       "      <td>1227549055724617728</td>\n",
       "      <td>67</td>\n",
       "    </tr>\n",
       "  </tbody>\n",
       "</table>\n",
       "</div>"
      ],
      "text/plain": [
       "              tweet_id  assessment_option_id\n",
       "0  1227261586521382913                    63\n",
       "1  1227435952961937413                    65\n",
       "2  1227510231569092610                    63\n",
       "3  1227527803312099328                    63\n",
       "4  1227549055724617728                    67"
      ]
     },
     "execution_count": 4,
     "metadata": {},
     "output_type": "execute_result"
    }
   ],
   "source": [
    "df = pd.read_csv('covid19.csv')\n",
    "print(len(df))\n",
    "df.head()"
   ]
  },
  {
   "cell_type": "code",
   "execution_count": 5,
   "id": "5a773012-f91e-4d2d-ac87-52245ad3b9b3",
   "metadata": {},
   "outputs": [],
   "source": [
    "tweet_id_list = list(df['tweet_id'])\n",
    "assessment_list = list(df['assessment_option_id'])"
   ]
  },
  {
   "cell_type": "markdown",
   "id": "44ddf3a8-3a98-4e5b-8b37-32e715a79eca",
   "metadata": {},
   "source": [
    "## Get twitter`s API"
   ]
  },
  {
   "cell_type": "code",
   "execution_count": 6,
   "id": "cc7600a6-97e2-41fb-b64c-4c866acd83ec",
   "metadata": {},
   "outputs": [],
   "source": [
    "# hidden "
   ]
  },
  {
   "cell_type": "code",
   "execution_count": 7,
   "id": "3dd52fd1-4b7e-4d2a-9aa9-33e6857de08c",
   "metadata": {},
   "outputs": [],
   "source": [
    "from api import twitter_api\n",
    "import random\n",
    "\n",
    "api = twitter_api(API_KEY, API_SECRET_KEY, ACCESS_TOKEN, ACCESS_TOKEN_SECRET)"
   ]
  },
  {
   "cell_type": "markdown",
   "id": "bbde7bee-f729-4b8b-a8a0-b8dd85f69e03",
   "metadata": {},
   "source": [
    "# System (from 'twitter_id' to 'text')"
   ]
  },
  {
   "cell_type": "code",
   "execution_count": 8,
   "id": "bd647aed-5a86-4997-b2b5-365945fdca12",
   "metadata": {},
   "outputs": [
    {
     "data": {
      "text/plain": [
       "'更新：WHOは新型コロナウイルスの正式名称を「COVID-19」とすると発表しました\\nhttps://t.co/zFQKGGXpse'"
      ]
     },
     "execution_count": 8,
     "metadata": {},
     "output_type": "execute_result"
    }
   ],
   "source": [
    "tweet = api.get_status(1227261586521382913)\n",
    "tweet.text"
   ]
  },
  {
   "cell_type": "code",
   "execution_count": 16,
   "id": "23f4e3d7-b590-4194-bcbc-9ab4492faba9",
   "metadata": {},
   "outputs": [
    {
     "name": "stdout",
     "output_type": "stream",
     "text": [
      "現在1回目の実行です\n",
      "現在100回目の実行です\n",
      "現在200回目の実行です\n",
      "現在300回目の実行です\n",
      "現在400回目の実行です\n",
      "現在500回目の実行です\n",
      "現在600回目の実行です\n",
      "現在700回目の実行です\n",
      "現在800回目の実行です\n"
     ]
    }
   ],
   "source": [
    "cnt = 0\n",
    "tweets_list = []\n",
    "\n",
    "for tweet_id in tweet_id_list[5375:6272]:\n",
    "#     if none_cnt > 10:\n",
    "#         break\n",
    "        \n",
    "    cnt += 1\n",
    "    if cnt % 100 == 0 or cnt == 1:\n",
    "        print(f'現在{cnt}回目の実行です')\n",
    "    \n",
    "    try:\n",
    "        tweet = api.get_status(tweet_id).text\n",
    "#         if tweet is None:\n",
    "#             none_cnt += 1\n",
    "#         else:\n",
    "#             none_cnt = 0\n",
    "        tweets_list.append(tweet)\n",
    "    except:\n",
    "#         none_cnt += 1\n",
    "        tweets_list.append(None)\n"
   ]
  },
  {
   "cell_type": "code",
   "execution_count": 17,
   "id": "5f669fab-c9ba-41d2-846b-20c26dbae78c",
   "metadata": {},
   "outputs": [
    {
     "name": "stdout",
     "output_type": "stream",
     "text": [
      "897\n"
     ]
    }
   ],
   "source": [
    "print(len(tweets_list))"
   ]
  },
  {
   "cell_type": "code",
   "execution_count": 18,
   "id": "84534f88-a699-4f05-a390-37d08d5d6d2a",
   "metadata": {},
   "outputs": [],
   "source": [
    "from lists_file import dumpJoblib\n",
    "\n",
    "dumpJoblib('texts_list_05375_06271.joblib', tweets_list)"
   ]
  },
  {
   "cell_type": "code",
   "execution_count": 79,
   "id": "bdda04c1-04fc-429d-9e7c-935f87b29324",
   "metadata": {},
   "outputs": [
    {
     "data": {
      "text/plain": [
       "tweet_id                1268319847735193600\n",
       "assessment_option_id                     65\n",
       "Name: 4476, dtype: int64"
      ]
     },
     "execution_count": 79,
     "metadata": {},
     "output_type": "execute_result"
    }
   ],
   "source": [
    "df.iloc[3579+898-1]"
   ]
  },
  {
   "cell_type": "markdown",
   "id": "e0f1727c-5102-4906-84a1-880092b6d902",
   "metadata": {},
   "source": [
    "# Fully Automatic System (from 'twitter_id' to 'text')"
   ]
  },
  {
   "cell_type": "code",
   "execution_count": 92,
   "id": "1111d0b3-3bff-429c-bf3b-c24dd2738103",
   "metadata": {},
   "outputs": [
    {
     "name": "stdout",
     "output_type": "stream",
     "text": [
      "1回目の実行です 　順調に進んでいます\n",
      "6272から7169のjoblibファイルを作成しました!!\n",
      "\n",
      "2回目の実行です 　順調に進んでいます\n",
      "7170から8067のjoblibファイルを作成しました!!\n",
      "\n",
      "3回目の実行です 　順調に進んでいます\n",
      "8068から8965のjoblibファイルを作成しました!!\n",
      "\n",
      "4回目の実行です 　順調に進んでいます\n",
      "8966から9863のjoblibファイルを作成しました!!\n",
      "\n",
      "5回目の実行です 　順調に進んでいます\n",
      "9864から10761のjoblibファイルを作成しました!!\n",
      "\n",
      "6回目の実行です 　順調に進んでいます\n",
      "10762から11659のjoblibファイルを作成しました!!\n",
      "\n",
      "7回目の実行です 　順調に進んでいます\n",
      "11660から12557のjoblibファイルを作成しました!!\n",
      "\n",
      "8回目の実行です 　順調に進んでいます\n",
      "12558から13455のjoblibファイルを作成しました!!\n",
      "\n",
      "9回目の実行です 　順調に進んでいます\n",
      "13456から14353のjoblibファイルを作成しました!!\n",
      "\n",
      "10回目の実行です 　順調に進んでいます\n",
      "14354から15251のjoblibファイルを作成しました!!\n",
      "\n",
      "11回目の実行です 　順調に進んでいます\n",
      "15252から16149のjoblibファイルを作成しました!!\n",
      "\n",
      "12回目の実行です 　順調に進んでいます\n",
      "16150から17047のjoblibファイルを作成しました!!\n",
      "\n",
      "13回目の実行です 　順調に進んでいます\n",
      "17048から17945のjoblibファイルを作成しました!!\n",
      "\n",
      "14回目の実行です 　順調に進んでいます\n",
      "17946から18843のjoblibファイルを作成しました!!\n",
      "\n",
      "15回目の実行です 　順調に進んでいます\n",
      "18844から19741のjoblibファイルを作成しました!!\n",
      "\n",
      "16回目の実行です 　順調に進んでいます\n",
      "19742から20639のjoblibファイルを作成しました!!\n",
      "\n",
      "17回目の実行です 　順調に進んでいます\n",
      "20640から21537のjoblibファイルを作成しました!!\n",
      "\n",
      "18回目の実行です 　順調に進んでいます\n",
      "21538から22435のjoblibファイルを作成しました!!\n",
      "\n",
      "19回目の実行です 　順調に進んでいます\n",
      "22436から23333のjoblibファイルを作成しました!!\n",
      "\n",
      "20回目の実行です 　順調に進んでいます\n",
      "23334から24231のjoblibファイルを作成しました!!\n",
      "\n",
      "21回目の実行です 　順調に進んでいます\n",
      "24232から25129のjoblibファイルを作成しました!!\n",
      "\n",
      "22回目の実行です 　順調に進んでいます\n",
      "25130から26027のjoblibファイルを作成しました!!\n",
      "\n",
      "23回目の実行です 　順調に進んでいます\n",
      "26028から26925のjoblibファイルを作成しました!!\n",
      "\n",
      "24回目の実行です 　順調に進んでいます\n",
      "26926から27823のjoblibファイルを作成しました!!\n",
      "\n",
      "25回目の実行です 　順調に進んでいます\n",
      "27824から28721のjoblibファイルを作成しました!!\n",
      "\n",
      "26回目の実行です 　順調に進んでいます\n",
      "28722から29619のjoblibファイルを作成しました!!\n",
      "\n",
      "27回目の実行です 　順調に進んでいます\n",
      "29620から30517のjoblibファイルを作成しました!!\n",
      "\n",
      "28回目の実行です 　順調に進んでいます\n",
      "30518から31415のjoblibファイルを作成しました!!\n",
      "\n",
      "29回目の実行です 　順調に進んでいます\n",
      "31416から32313のjoblibファイルを作成しました!!\n",
      "\n",
      "30回目の実行です 　順調に進んでいます\n",
      "32314から33211のjoblibファイルを作成しました!!\n",
      "\n",
      "31回目の実行です 　順調に進んでいます\n",
      "33212から34109のjoblibファイルを作成しました!!\n",
      "\n",
      "32回目の実行です 　順調に進んでいます\n",
      "34110から35007のjoblibファイルを作成しました!!\n",
      "\n",
      "33回目の実行です 　順調に進んでいます\n",
      "35008から35905のjoblibファイルを作成しました!!\n",
      "\n",
      "34回目の実行です 　順調に進んでいます\n",
      "35906から36803のjoblibファイルを作成しました!!\n",
      "\n",
      "35回目の実行です 　順調に進んでいます\n",
      "36804から37701のjoblibファイルを作成しました!!\n",
      "\n",
      "36回目の実行です 　順調に進んでいます\n",
      "37702から38599のjoblibファイルを作成しました!!\n",
      "\n",
      "37回目の実行です 　順調に進んでいます\n",
      "38600から39497のjoblibファイルを作成しました!!\n",
      "\n",
      "38回目の実行です 　順調に進んでいます\n",
      "39498から40395のjoblibファイルを作成しました!!\n",
      "\n",
      "39回目の実行です 　順調に進んでいます\n",
      "40396から41293のjoblibファイルを作成しました!!\n",
      "\n",
      "40回目の実行です 　順調に進んでいます\n",
      "41294から42191のjoblibファイルを作成しました!!\n",
      "\n",
      "41回目の実行です 　順調に進んでいます\n",
      "42192から43089のjoblibファイルを作成しました!!\n",
      "\n",
      "42回目の実行です 　順調に進んでいます\n",
      "43090から43987のjoblibファイルを作成しました!!\n",
      "\n",
      "43回目の実行です 　順調に進んでいます\n",
      "43988から44885のjoblibファイルを作成しました!!\n",
      "\n",
      "44回目の実行です 　順調に進んでいます\n",
      "44886から45783のjoblibファイルを作成しました!!\n",
      "\n",
      "45回目の実行です 　順調に進んでいます\n",
      "45784から46681のjoblibファイルを作成しました!!\n",
      "\n",
      "46回目の実行です 　順調に進んでいます\n",
      "46682から47579のjoblibファイルを作成しました!!\n",
      "\n",
      "47回目の実行です 　順調に進んでいます\n",
      "47580から48477のjoblibファイルを作成しました!!\n",
      "\n",
      "48回目の実行です 　順調に進んでいます\n",
      "48478から49375のjoblibファイルを作成しました!!\n",
      "\n",
      "49回目の実行です 　順調に進んでいます\n",
      "49376から50273のjoblibファイルを作成しました!!\n",
      "\n",
      "50回目の実行です 　順調に進んでいます\n",
      "50274から51171のjoblibファイルを作成しました!!\n",
      "\n",
      "51回目の実行です 　順調に進んでいます\n",
      "51172から52069のjoblibファイルを作成しました!!\n",
      "\n",
      "52回目の実行です 　順調に進んでいます\n",
      "52070から52967のjoblibファイルを作成しました!!\n",
      "\n",
      "53回目の実行です 　順調に進んでいます\n",
      "52968から53639のjoblibファイルを作成しました!!\n",
      "\n",
      "54回目の実行です 53640から53639のjoblibファイルを作成しました!!\n",
      "\n",
      "55回目の実行です 53640から53639のjoblibファイルを作成しました!!\n",
      "\n",
      "56回目の実行です 53640から53639のjoblibファイルを作成しました!!\n",
      "\n",
      "57回目の実行です 53640から53639のjoblibファイルを作成しました!!\n",
      "\n",
      "58回目の実行です 53640から53639のjoblibファイルを作成しました!!\n",
      "\n",
      "59回目の実行です 53640から53639のjoblibファイルを作成しました!!\n",
      "\n",
      "60回目の実行です 53640から53639のjoblibファイルを作成しました!!\n",
      "\n",
      "61回目の実行です 53640から53639のjoblibファイルを作成しました!!\n",
      "\n",
      "62回目の実行です 53640から53639のjoblibファイルを作成しました!!\n",
      "\n",
      "63回目の実行です 53640から53639のjoblibファイルを作成しました!!\n",
      "\n",
      "64回目の実行です 53640から53639のjoblibファイルを作成しました!!\n",
      "\n",
      "65回目の実行です 53640から53639のjoblibファイルを作成しました!!\n",
      "\n",
      "66回目の実行です 53640から53639のjoblibファイルを作成しました!!\n",
      "\n",
      "67回目の実行です 53640から53639のjoblibファイルを作成しました!!\n",
      "\n",
      "68回目の実行です 53640から53639のjoblibファイルを作成しました!!\n",
      "\n",
      "69回目の実行です 53640から53639のjoblibファイルを作成しました!!\n",
      "\n",
      "70回目の実行です 53640から53639のjoblibファイルを作成しました!!\n",
      "\n",
      "71回目の実行です 53640から53639のjoblibファイルを作成しました!!\n",
      "\n",
      "72回目の実行です 53640から53639のjoblibファイルを作成しました!!\n",
      "\n",
      "73回目の実行です 53640から53639のjoblibファイルを作成しました!!\n",
      "\n",
      "74回目の実行です 53640から53639のjoblibファイルを作成しました!!\n",
      "\n",
      "75回目の実行です 53640から53639のjoblibファイルを作成しました!!\n",
      "\n",
      "76回目の実行です 53640から53639のjoblibファイルを作成しました!!\n",
      "\n",
      "77回目の実行です 53640から53639のjoblibファイルを作成しました!!\n",
      "\n",
      "78回目の実行です 53640から53639のjoblibファイルを作成しました!!\n",
      "\n",
      "79回目の実行です 53640から53639のjoblibファイルを作成しました!!\n",
      "\n",
      "80回目の実行です 53640から53639のjoblibファイルを作成しました!!\n",
      "\n",
      "81回目の実行です 53640から53639のjoblibファイルを作成しました!!\n",
      "\n",
      "82回目の実行です 53640から53639のjoblibファイルを作成しました!!\n",
      "\n",
      "エラーが発生しました!! 対処してください!! \n"
     ]
    }
   ],
   "source": [
    "import time\n",
    "\n",
    "epoch_cnt = 0\n",
    "limit_number = 898\n",
    "current_number = 6272\n",
    "final_number = 53639\n",
    "\n",
    "\n",
    "try:\n",
    "    while True:\n",
    "        inner_cnt = 0\n",
    "        epoch_cnt += 1\n",
    "        tweets_list = []\n",
    "        end_number = current_number + limit_number - 1\n",
    "\n",
    "        print(f'{epoch_cnt}回目の実行です ', end='')\n",
    "\n",
    "        if end_number > final_number:\n",
    "            end_number = final_number\n",
    "\n",
    "        for tweet_id in tweet_id_list[current_number:(end_number+1)]:\n",
    "            try:\n",
    "                inner_cnt += 1\n",
    "                if inner_cnt == 450:\n",
    "                    print('　順調に進んでいます')\n",
    "                tweet = api.get_status(tweet_id).text\n",
    "                tweets_list.append(tweet)\n",
    "            except:\n",
    "                tweets_list.append(None)\n",
    "\n",
    "\n",
    "        dumpJoblib(f'texts_list_{str(current_number)}_{str(end_number)}.joblib', tweets_list)    \n",
    "        print(f'{str(current_number)}から{str(end_number)}のjoblibファイルを作成しました!!\\n')\n",
    "\n",
    "        current_number = end_number + 1\n",
    "\n",
    "        time.sleep(60*15)\n",
    "        \n",
    "except:\n",
    "    print('エラーが発生しました!! 対処してください!! ')\n"
   ]
  }
 ],
 "metadata": {
  "kernelspec": {
   "display_name": "Python 3",
   "language": "python",
   "name": "python3"
  },
  "language_info": {
   "codemirror_mode": {
    "name": "ipython",
    "version": 3
   },
   "file_extension": ".py",
   "mimetype": "text/x-python",
   "name": "python",
   "nbconvert_exporter": "python",
   "pygments_lexer": "ipython3",
   "version": "3.8.8"
  }
 },
 "nbformat": 4,
 "nbformat_minor": 5
}
