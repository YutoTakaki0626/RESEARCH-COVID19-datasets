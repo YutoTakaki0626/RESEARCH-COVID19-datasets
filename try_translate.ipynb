{
 "cells": [
  {
   "cell_type": "code",
   "execution_count": 50,
   "id": "050c2db5-e877-49c0-93ea-b5209550e848",
   "metadata": {},
   "outputs": [],
   "source": [
    "%load_ext autoreload\n",
    "%autoreload 2"
   ]
  },
  {
   "cell_type": "code",
   "execution_count": 55,
   "id": "351aadb1-ba31-4196-97e9-1bb3c10412bb",
   "metadata": {},
   "outputs": [
    {
     "data": {
      "text/plain": [
       "'「都道府県別プリズムナナウイルス感染者数地図」-コロナウイルスCOVID-19ジャパンケース（2019-nCoV）-3/7 23：45展示https://t.co/l0YVXYZTgV…https://t.co/ aFsgOyXZ77、'"
      ]
     },
     "execution_count": 55,
     "metadata": {},
     "output_type": "execute_result"
    }
   ],
   "source": [
    "from bs4 import BeautifulSoup\n",
    "import requests \n",
    "\n",
    "url = 'https://script.google.com/macros/s/AKfycbweJFfBqKUs5gGNnkV2xwTZtZPptI6ebEhcCU2_JvOmHwM2TCk/exec?text=「都道府県別新型コロナウイルス感染者数マップ」 - Coronavirus COVID-19 Japan Case (2019-nCoV)  - 3/7 23:45現在https://t.co/l0YVXYZTgV… https://t.co/aFsgOyXZ77,&source=en&target=ja'\n",
    "response = req.get(url)\n",
    "response.encoding = response.apparent_encoding\n",
    "str(response.text)\n",
    "# soup = BeautifulSoup(html, 'html.parser')\n",
    "# text = soup.pre.get_text()\n",
    "# print(text)"
   ]
  },
  {
   "cell_type": "markdown",
   "id": "665d9b9b-f881-4496-b8b7-892714f7105e",
   "metadata": {},
   "source": [
    "\n",
    "https://script.google.com/macros/s/AKfycbweJFfBqKUs5gGNnkV2xwTZtZPptI6ebEhcCU2_JvOmHwM2TCk/exec?text=これって英語圏の人は見間違えないのかな？\\n\\n#GODIVA#COVID19\\n\\n新型コロナウイルスの名称「COVID-19」をゴディバと見間違えるが続出&source=en&target=ja"
   ]
  },
  {
   "cell_type": "code",
   "execution_count": 105,
   "id": "6bc21ec3-27b7-49b9-a997-ddf89f7c0456",
   "metadata": {},
   "outputs": [
    {
     "name": "stdout",
     "output_type": "stream",
     "text": [
      "https://script.google.com/macros/s/AKfycbweJFfBqKUs5gGNnkV2xwTZtZPptI6ebEhcCU2_JvOmHwM2TCk/exec?text=更新：WHOは新型コロナウイルスの正式名称を「COVID-19」とすると発表しました\\n&source=ja&target=en\n",
      "https://script.google.com/macros/s/AKfycbweJFfBqKUs5gGNnkV2xwTZtZPptI6ebEhcCU2_JvOmHwM2TCk/exec?text=UpdateWHOannouncedthattheofficialnameofthenewcoronaviruswillbeCOVID-19n&source=en&target=ja\n",
      "https://script.google.com/macros/s/AKfycbweJFfBqKUs5gGNnkV2xwTZtZPptI6ebEhcCU2_JvOmHwM2TCk/exec?text=これって英語圏の人は見間違えないのかな？\\n\\nGODIVACOVID19\\n\\n新型コロナウイルスの名称「COVID-19」をゴディバと見間違えるが続出&source=ja&target=en\n",
      "https://script.google.com/macros/s/AKfycbweJFfBqKUs5gGNnkV2xwTZtZPptI6ebEhcCU2_JvOmHwM2TCk/exec?text=IsthiscorrectforEnglish-speakingpeoplennGODIVACOVID19nnThenameofthenewcoronavirusCOVID-19ismistakenforGodiva,butitcontinues&source=en&target=ja\n",
      "https://script.google.com/macros/s/AKfycbweJFfBqKUs5gGNnkV2xwTZtZPptI6ebEhcCU2_JvOmHwM2TCk/exec?text=新型コロナウイルス感染症の拡大防止に係る災害派遣\\n要員として航空機動衛生隊の隊員１名がクルーズ船「ダイヤモンドプリンセス号」医療支援のため小牧基地を出発しました。\\nCOVID19&source=ja&target=en\n",
      "https://script.google.com/macros/s/AKfycbweJFfBqKUs5gGNnkV2xwTZtZPptI6ebEhcCU2_JvOmHwM2TCk/exec?text=OnememberoftheJapanAirSelf-DefenseForcedepartedfromKomakibaseformedicalsupportforthecruiseshipDiamondPrincessasadisasterdispatchertopreventthespreadofthenewcoronavirusinfectionnCOVID19&source=en&target=ja\n"
     ]
    },
    {
     "data": {
      "text/plain": [
       "['UpdateWHOは、新しいコロナウイルスの正式名称がCOVID-19nになることを発表しました',\n",
       " 'これは英語を話す人々にとって正しいですかnnGODIVACOVID19nn新しいコロナウイルスの名前COVID-19ismistakenforGodiva、しかしそれは続く',\n",
       " '日本空軍の1人のメンバーは、コマキ基地から出発し、新しいコロナウイルス感染の蔓延を防ぐために、ダイアモンドプリンセスと災害ディスパッチャーの正式なサポートを提供しました。COVID19']"
      ]
     },
     "execution_count": 105,
     "metadata": {},
     "output_type": "execute_result"
    }
   ],
   "source": [
    "from PY_tweet.lists_file import *\n",
    "\n",
    "tweets_list = loadJoblib('DATA_all_texts/only_4labels_textdata.joblib')\n",
    "\n",
    "from PY_tweet import translate\n",
    "\n",
    "from PY_preprocessing import remove\n",
    "\n",
    "rm = remove.Remove()\n",
    "data = rm.url(tweets_list)\n",
    "\n",
    "tlans = translate.Translate()\n",
    "tlans.entoja(data[:3])"
   ]
  },
  {
   "cell_type": "code",
   "execution_count": 88,
   "id": "49208f0b-06a2-45c0-81cb-8b0141c5e17d",
   "metadata": {},
   "outputs": [
    {
     "data": {
      "text/plain": [
       "['更新：WHOは新型コロナウイルスの正式名称を「COVID-19」とすると発表しました\\nhttps://t.co/zFQKGGXpse',\n",
       " 'これって英語圏の人は見間違えないのかな？\\n\\n#GODIVA #COVID19\\n\\n新型コロナウイルスの名称「COVID-19」をゴディバと見間違えるが続出 https://t.co/z5CxZFpQmQ',\n",
       " '#新型コロナ ウイルス感染症の拡大防止に係る #災害派遣  \\n要員として航空機動衛生隊の隊員１名がクルーズ船「ダイヤモンドプリンセス号」医療支援のため小牧基地を出発しました。\\n#COVID19 https://t.co/X4tEvmR1im',\n",
       " '未曾有の事態の中、中国政府は言論の自由を奪っています\\n\\n記事では、中国国内の実態の取材に尽力していた記者が拘束されたことを報道しています\\n\\n中国国民も、政府に対して不信感を募らせています🇨🇳\\n\\n政府による人災とならないことを祈りま… https://t.co/56QJemwK7h',\n",
       " '新しいコロナウィルスの名称\\nCOVID-19とWHO命名。クールで恐ろしい名前やな\\n#COVID19 #新型コロナウィルス #やばい病気',\n",
       " '☆新型コロナウィルス相談窓口（各都道府県）\\n一応窓口は、ありますが、まず、風邪でしょうといわれます。⇒理由：国内で一人でも感染者が出たらパニックになるから?（封じ込められてないことがばれるから？）#nCoV #COVID_19\\u3000https://t.co/PMB6Jb5wip',\n",
       " '新型コロナウイルスCOVID-19に罹患した妊婦は，妊娠していない成人と臨床的特徴は同様であり，出産および新生児に特に問題なし．羊水，臍帯血からもウイルスは検出されなかった．9症例報告．（Lancet 2020, Feb 12）\\nhttps://t.co/y2b67xsOzH',\n",
       " 'いっふー☀\\nさくらいふちゃんだよ🌸\\n＼#手洗い で手首も洗ってる❓／\\n\\n手首にも意外とウイルスやばい菌がついているよΣ（・□・；）\\n洗い残しのないように、ちゃんと洗おうね！\\n\\n#新型コロナウイルス  #COVID19… https://t.co/oFnSmC28yN',\n",
       " '湖北省\\n\\n感染爆発か\\n\\n１日で\\n感染者１万４千人増加\\n\\n死者も２００人超増える\\n\\n#covid19\\n新型コロナの流行の終息時期\\u3000WHO「見通せない」 https://t.co/zyXXQfofcz',\n",
       " '【中央日報】韓国人は新型肺炎の潜在保菌者? オランダ航空の「人種差別」が俎上に\\n\\nオランダ航空会社であるKLM航空が人種差別の論議に巻き込まれた。「COVID-19(新型コロナウイルス)」に関連して韓国人に差別的な措置を取ったとい… https://t.co/DtMl9eIslb',\n",
       " '新型コロナウイルス(2019-nCoV, COVID-19)の重症管理に役立つコクランエビデンスを集めた特集号の日本語訳が完了しました。\\nそれぞれのコクランレビューのリンクは訳のあるものについては日本語表記されるリンクにしています… https://t.co/SDPE1z7vbk',\n",
       " '検疫官も感染してしまうとなると、やはり乗客と接する乗員は全数検査するべきだと思う。\\n\\n #新型肺炎 #新型コロナウィルス #COVID19 #クルーズ船 #ひるおび',\n",
       " '新型コロナウイルス（COVID－19）治療の最前線に立つ、大曲貴夫先生にお話を伺いました。「国内では一人も死なせない」と連日奮闘なさって、体重が2キロ落ちたとのこと。院内感染管理の重要性や最新治療、一般の人ができることも話して頂き… https://t.co/phM8oe5m0l',\n",
       " 'クルーズ船「ダイヤモンドプリンス号」の乗客輸送支援として #小牧基地 #第１輸送航空隊 管理隊員４名と大型バス２台が出発しました。\\n#新型コロナウイルス \\n#災害派遣 \\n#covid19 https://t.co/J2Nc6M33wq',\n",
       " '急に新型コロナウイルスCOVID-19患者数が1日で14840例（うち12000例近くは武漢）急増しましたが、これはこれまでCTやPCRで陽性とでなかったけど疑わしい症例を臨床診断として患者数に含めたからのようです。PCRの検査感… https://t.co/Ni07cUXX8G',\n",
       " '都内のタクシー運転手が感染。遅かれ早かれ来ると判っていた事だが…。情報の確実さの責任に束縛された専門家の発信が後手に回った結果、世の中全体の、そして業界の動きが遅きに失した感がある。\\n#NHK #首都圏ネットワーク #新型コロナウイルス #COVID19 #感染症',\n",
       " '【速報】東京都内のタクシー運転手の男性、新型コロナウイルスに感染確認\\n#COVID19 #新型肺炎 #新型コロナウイルス',\n",
       " '中国では看護師はウィルスが髪につかないようにマルコメちゃんに。\\n髪の長い女性は切ったりまとめた方が良いかもしれない。\\n\\n#coronavirus\\n#コロナウィルス\\n#新型コロナウィルス\\n#COVID2019 https://t.co/VcP0WxqVdi',\n",
       " '#新型コロナウイルス\\u3000COVID-19\\n\\n和歌山県の感染者は\\u3000医師とのことです。\\n\\n医師も命懸けです！\\n\\n正しい #感染対策 をお願いします。\\n\\nhttps://t.co/GCAGSobbsj',\n",
       " '日本政府､緊急ウイルス対策に総額153億円\\u3000ワクチン開発やマスク増産､簡易検査キット準備へ https://t.co/HvLjoIhP19 #COVID19 #新型コロナウイルス #新型肺炎 #コロナウイルス #感染者 #WHO #ワクチン #簡易検査キット #マスク #予備費']"
      ]
     },
     "execution_count": 88,
     "metadata": {},
     "output_type": "execute_result"
    }
   ],
   "source": []
  },
  {
   "cell_type": "code",
   "execution_count": 89,
   "id": "7a8e6a88-c5ae-421b-ab4c-7b2a6d65b618",
   "metadata": {},
   "outputs": [
    {
     "data": {
      "text/plain": [
       "'#新型コロナ ウイルス感染症の拡大防止に係る #災害派遣  \\n要員として航空機動衛生隊の隊員１名がクルーズ船「ダイヤモンドプリンセス号」医療支援のため小牧基地を出発しました。\\n#COVID19 https://t.co/X4tEvmR1im'"
      ]
     },
     "execution_count": 89,
     "metadata": {},
     "output_type": "execute_result"
    }
   ],
   "source": [
    "'#新型コロナ ウイルス感染症の拡大防止に係る #災害派遣  \\n要員として航空機動衛生隊の隊員１名がクルーズ船「ダイヤモンドプリンセス号」医療支援のため小牧基地を出発しました。\\n#COVID19 https://t.co/X4tEvmR1im'.strip()"
   ]
  },
  {
   "cell_type": "code",
   "execution_count": 66,
   "id": "4aa7d007-d528-467f-aace-446e6bfdcba6",
   "metadata": {},
   "outputs": [
    {
     "data": {
      "text/plain": [
       "20975"
      ]
     },
     "execution_count": 66,
     "metadata": {},
     "output_type": "execute_result"
    }
   ],
   "source": [
    "from PY_preprocessing import count\n",
    "cnt = count.Count()\n",
    "num, _ = cnt.url(tweets_list)\n",
    "num"
   ]
  },
  {
   "cell_type": "code",
   "execution_count": 67,
   "id": "ef7fb7d6-20ad-4dab-8f15-edcd5e20f320",
   "metadata": {},
   "outputs": [],
   "source": [
    "from PY_preprocessing import remove\n",
    "rmv = remove.Remove()\n",
    "rmv_list = rmv.add_url(tweets_list)"
   ]
  },
  {
   "cell_type": "code",
   "execution_count": 73,
   "id": "340f4e90-2c7b-4aba-a157-62f8564c73f6",
   "metadata": {},
   "outputs": [
    {
     "ename": "KeyboardInterrupt",
     "evalue": "",
     "output_type": "error",
     "traceback": [
      "\u001b[0;31m---------------------------------------------------------------------------\u001b[0m",
      "\u001b[0;31mKeyboardInterrupt\u001b[0m                         Traceback (most recent call last)",
      "\u001b[0;32m<ipython-input-73-3342ee6e2302>\u001b[0m in \u001b[0;36m<module>\u001b[0;34m\u001b[0m\n\u001b[1;32m      5\u001b[0m \u001b[0;32mfor\u001b[0m \u001b[0mtweet\u001b[0m \u001b[0;32min\u001b[0m \u001b[0mtweets_list\u001b[0m\u001b[0;34m[\u001b[0m\u001b[0;34m:\u001b[0m\u001b[0;36m3\u001b[0m\u001b[0;34m]\u001b[0m\u001b[0;34m:\u001b[0m\u001b[0;34m\u001b[0m\u001b[0;34m\u001b[0m\u001b[0m\n\u001b[1;32m      6\u001b[0m     \u001b[0;32mwhile\u001b[0m \u001b[0;34m(\u001b[0m\u001b[0mre\u001b[0m\u001b[0;34m.\u001b[0m\u001b[0msearch\u001b[0m\u001b[0;34m(\u001b[0m\u001b[0;34mr'[^\"]http[a-zA-Z:./0-9]*[^\"]'\u001b[0m\u001b[0;34m,\u001b[0m \u001b[0mtweet\u001b[0m\u001b[0;34m)\u001b[0m \u001b[0;32mis\u001b[0m \u001b[0;32mnot\u001b[0m \u001b[0;32mNone\u001b[0m\u001b[0;34m)\u001b[0m\u001b[0;34m:\u001b[0m\u001b[0;34m\u001b[0m\u001b[0;34m\u001b[0m\u001b[0m\n\u001b[0;32m----> 7\u001b[0;31m         \u001b[0man\u001b[0m \u001b[0;34m=\u001b[0m \u001b[0mre\u001b[0m\u001b[0;34m.\u001b[0m\u001b[0msearch\u001b[0m\u001b[0;34m(\u001b[0m\u001b[0;34mr'[^\"]http[a-zA-Z:./0-9]*[^\"]'\u001b[0m\u001b[0;34m,\u001b[0m \u001b[0mtweet\u001b[0m\u001b[0;34m)\u001b[0m\u001b[0;34m\u001b[0m\u001b[0;34m\u001b[0m\u001b[0m\n\u001b[0m\u001b[1;32m      8\u001b[0m         \u001b[0mstart\u001b[0m \u001b[0;34m=\u001b[0m \u001b[0man\u001b[0m\u001b[0;34m.\u001b[0m\u001b[0mspan\u001b[0m\u001b[0;34m(\u001b[0m\u001b[0;34m)\u001b[0m\u001b[0;34m[\u001b[0m\u001b[0;36m0\u001b[0m\u001b[0;34m]\u001b[0m\u001b[0;34m\u001b[0m\u001b[0;34m\u001b[0m\u001b[0m\n\u001b[1;32m      9\u001b[0m         \u001b[0mend\u001b[0m \u001b[0;34m=\u001b[0m \u001b[0man\u001b[0m\u001b[0;34m.\u001b[0m\u001b[0mspan\u001b[0m\u001b[0;34m(\u001b[0m\u001b[0;34m)\u001b[0m\u001b[0;34m[\u001b[0m\u001b[0;36m1\u001b[0m\u001b[0;34m]\u001b[0m\u001b[0;34m\u001b[0m\u001b[0;34m\u001b[0m\u001b[0m\n",
      "\u001b[0;32m~/anaconda3/lib/python3.8/re.py\u001b[0m in \u001b[0;36msearch\u001b[0;34m(pattern, string, flags)\u001b[0m\n\u001b[1;32m    199\u001b[0m     \"\"\"Scan through string looking for a match to the pattern, returning\n\u001b[1;32m    200\u001b[0m     a Match object, or None if no match was found.\"\"\"\n\u001b[0;32m--> 201\u001b[0;31m     \u001b[0;32mreturn\u001b[0m \u001b[0m_compile\u001b[0m\u001b[0;34m(\u001b[0m\u001b[0mpattern\u001b[0m\u001b[0;34m,\u001b[0m \u001b[0mflags\u001b[0m\u001b[0;34m)\u001b[0m\u001b[0;34m.\u001b[0m\u001b[0msearch\u001b[0m\u001b[0;34m(\u001b[0m\u001b[0mstring\u001b[0m\u001b[0;34m)\u001b[0m\u001b[0;34m\u001b[0m\u001b[0;34m\u001b[0m\u001b[0m\n\u001b[0m\u001b[1;32m    202\u001b[0m \u001b[0;34m\u001b[0m\u001b[0m\n\u001b[1;32m    203\u001b[0m \u001b[0;32mdef\u001b[0m \u001b[0msub\u001b[0m\u001b[0;34m(\u001b[0m\u001b[0mpattern\u001b[0m\u001b[0;34m,\u001b[0m \u001b[0mrepl\u001b[0m\u001b[0;34m,\u001b[0m \u001b[0mstring\u001b[0m\u001b[0;34m,\u001b[0m \u001b[0mcount\u001b[0m\u001b[0;34m=\u001b[0m\u001b[0;36m0\u001b[0m\u001b[0;34m,\u001b[0m \u001b[0mflags\u001b[0m\u001b[0;34m=\u001b[0m\u001b[0;36m0\u001b[0m\u001b[0;34m)\u001b[0m\u001b[0;34m:\u001b[0m\u001b[0;34m\u001b[0m\u001b[0;34m\u001b[0m\u001b[0m\n",
      "\u001b[0;31mKeyboardInterrupt\u001b[0m: "
     ]
    }
   ],
   "source": [
    "import re\n",
    "\n",
    "removed_list = []\n",
    "\n",
    "for tweet in tweets_list[:3]:\n",
    "    tweet = tweet.replace('\"', '')\n",
    "    tweet = '\"' + tweet + '\"'\n",
    "    while (re.search(r'[^\"]http[a-zA-Z:./0-9]*[^\"]', tweet) is not None):\n",
    "        an = re.search(r'[^\"]http[a-zA-Z:./0-9]*[^\"]', tweet)\n",
    "        start = an.span()[0]\n",
    "        end = an.span()[1]\n",
    "        tweet = str(tweet[:start]) + '\"' + str(tweet[start:end]) + '\"' + str(tweet[end:])\n",
    "    removed_list.append(tweet)\n",
    "    \n",
    "removed_list"
   ]
  },
  {
   "cell_type": "code",
   "execution_count": null,
   "id": "e12dd6fb-19cd-4b7b-af6a-63b9076e4c00",
   "metadata": {},
   "outputs": [],
   "source": [
    "tlans = translate.Translate()\n",
    "tlans.entoja(removed_list[:3])"
   ]
  },
  {
   "cell_type": "code",
   "execution_count": null,
   "id": "531264d6-77ec-4f7d-80c4-c9e3b789fb43",
   "metadata": {},
   "outputs": [],
   "source": []
  },
  {
   "cell_type": "code",
   "execution_count": 76,
   "id": "e5f90bdf-eafc-4069-8fc1-6894aa443316",
   "metadata": {},
   "outputs": [],
   "source": [
    "tweet ='isugh\"http://www.gojgs.jpjiaorhg\"'\n",
    "\n",
    "if re.search(r'[^\"]http[a-zA-Z:./0-9]*[^\"]', tweet) is not None:\n",
    "    print('yes')"
   ]
  },
  {
   "cell_type": "code",
   "execution_count": 79,
   "id": "4e3aa5eb-fad3-40ca-8aeb-13b1e6798908",
   "metadata": {},
   "outputs": [
    {
     "data": {
      "text/plain": [
       "'\"'"
      ]
     },
     "execution_count": 79,
     "metadata": {},
     "output_type": "execute_result"
    }
   ],
   "source": [
    "t = '\"'\n",
    "t"
   ]
  },
  {
   "cell_type": "code",
   "execution_count": 80,
   "id": "4a93ef20-e7a7-4436-a4b4-92172f6aa786",
   "metadata": {},
   "outputs": [
    {
     "data": {
      "text/plain": [
       "'gjaeior\"nasieg'"
      ]
     },
     "execution_count": 80,
     "metadata": {},
     "output_type": "execute_result"
    }
   ],
   "source": [
    "text = 'gjaeior\"nasieg'\n",
    "text"
   ]
  },
  {
   "cell_type": "code",
   "execution_count": 97,
   "id": "3e3186f6-55ab-4865-860b-0ad7b2b54089",
   "metadata": {},
   "outputs": [
    {
     "data": {
      "text/plain": [
       "'=()&()&(&IJMgoertgye896()797'"
      ]
     },
     "execution_count": 97,
     "metadata": {},
     "output_type": "execute_result"
    }
   ],
   "source": [
    "tweet = '=()&()&(&IJMgoertgye896()797'\n",
    "re.sub(r'[\\\\|/|:|?|.|\"|<|>|\\|]', '-', tweet)"
   ]
  },
  {
   "cell_type": "code",
   "execution_count": null,
   "id": "8996880a-28ba-4830-994d-11c64a62128d",
   "metadata": {},
   "outputs": [],
   "source": []
  }
 ],
 "metadata": {
  "kernelspec": {
   "display_name": "Python 3",
   "language": "python",
   "name": "python3"
  },
  "language_info": {
   "codemirror_mode": {
    "name": "ipython",
    "version": 3
   },
   "file_extension": ".py",
   "mimetype": "text/x-python",
   "name": "python",
   "nbconvert_exporter": "python",
   "pygments_lexer": "ipython3",
   "version": "3.8.8"
  }
 },
 "nbformat": 4,
 "nbformat_minor": 5
}
