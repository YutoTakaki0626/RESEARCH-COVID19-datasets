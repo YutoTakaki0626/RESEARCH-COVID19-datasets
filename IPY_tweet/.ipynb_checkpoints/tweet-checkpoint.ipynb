{
 "cells": [
  {
   "cell_type": "code",
   "execution_count": 13,
   "id": "77294140-2858-46cc-bee5-afba0c693152",
   "metadata": {},
   "outputs": [],
   "source": [
    "%load_ext autoreload\n",
    "%autoreload 2"
   ]
  },
  {
   "cell_type": "code",
   "execution_count": 34,
   "id": "e501c310-5f52-48ff-a387-06fe0f7dcb1a",
   "metadata": {},
   "outputs": [],
   "source": [
    "from PY_tweet import tweets"
   ]
  },
  {
   "cell_type": "code",
   "execution_count": 35,
   "id": "24f86a09-f990-4f3d-85a7-902d5da98cfb",
   "metadata": {},
   "outputs": [],
   "source": [
    "make = tweets.MakeTweet()\n",
    "make.make_all()"
   ]
  },
  {
   "cell_type": "code",
   "execution_count": 36,
   "id": "5446a6d2-fcb2-4bf4-aacb-00d1c5522907",
   "metadata": {},
   "outputs": [],
   "source": [
    "from PY_tweet.lists_file import dumpJoblib, loadJoblib\n",
    "\n",
    "a = loadJoblib('DATA_all_texts/only_4labels_textdata.joblib')"
   ]
  },
  {
   "cell_type": "code",
   "execution_count": 37,
   "id": "bb58f609-f656-41f5-82b7-48dab421880a",
   "metadata": {},
   "outputs": [
    {
     "data": {
      "text/plain": [
       "37514"
      ]
     },
     "execution_count": 37,
     "metadata": {},
     "output_type": "execute_result"
    }
   ],
   "source": [
    "len(a)"
   ]
  },
  {
   "cell_type": "code",
   "execution_count": null,
   "id": "8ee00f34-f812-41bd-a9fc-a56a342e4476",
   "metadata": {},
   "outputs": [],
   "source": []
  }
 ],
 "metadata": {
  "kernelspec": {
   "display_name": "Python 3",
   "language": "python",
   "name": "python3"
  },
  "language_info": {
   "codemirror_mode": {
    "name": "ipython",
    "version": 3
   },
   "file_extension": ".py",
   "mimetype": "text/x-python",
   "name": "python",
   "nbconvert_exporter": "python",
   "pygments_lexer": "ipython3",
   "version": "3.8.8"
  }
 },
 "nbformat": 4,
 "nbformat_minor": 5
}
