{
 "cells": [
  {
   "cell_type": "code",
   "execution_count": 1,
   "id": "9ab836b5-7eb9-404a-a5c5-61791511eb5f",
   "metadata": {},
   "outputs": [],
   "source": [
    "%load_ext autoreload\n",
    "%autoreload 2"
   ]
  },
  {
   "cell_type": "code",
   "execution_count": 2,
   "id": "47b228f6-af34-436a-8c36-b1283b4a782b",
   "metadata": {},
   "outputs": [
    {
     "name": "stdout",
     "output_type": "stream",
     "text": [
      "Requirement already satisfied: tweepy in /home/takakiyuto/anaconda3/lib/python3.8/site-packages (3.10.0)\n",
      "Requirement already satisfied: six>=1.10.0 in /home/takakiyuto/anaconda3/lib/python3.8/site-packages (from tweepy) (1.15.0)\n",
      "Requirement already satisfied: requests[socks]>=2.11.1 in /home/takakiyuto/anaconda3/lib/python3.8/site-packages (from tweepy) (2.25.1)\n",
      "Requirement already satisfied: requests-oauthlib>=0.7.0 in /home/takakiyuto/anaconda3/lib/python3.8/site-packages (from tweepy) (1.3.0)\n",
      "Requirement already satisfied: oauthlib>=3.0.0 in /home/takakiyuto/anaconda3/lib/python3.8/site-packages (from requests-oauthlib>=0.7.0->tweepy) (3.1.1)\n",
      "Requirement already satisfied: chardet<5,>=3.0.2 in /home/takakiyuto/anaconda3/lib/python3.8/site-packages (from requests[socks]>=2.11.1->tweepy) (4.0.0)\n",
      "Requirement already satisfied: urllib3<1.27,>=1.21.1 in /home/takakiyuto/anaconda3/lib/python3.8/site-packages (from requests[socks]>=2.11.1->tweepy) (1.26.4)\n",
      "Requirement already satisfied: certifi>=2017.4.17 in /home/takakiyuto/anaconda3/lib/python3.8/site-packages (from requests[socks]>=2.11.1->tweepy) (2020.12.5)\n",
      "Requirement already satisfied: idna<3,>=2.5 in /home/takakiyuto/anaconda3/lib/python3.8/site-packages (from requests[socks]>=2.11.1->tweepy) (2.10)\n",
      "Requirement already satisfied: PySocks!=1.5.7,>=1.5.6 in /home/takakiyuto/anaconda3/lib/python3.8/site-packages (from requests[socks]>=2.11.1->tweepy) (1.7.1)\n"
     ]
    }
   ],
   "source": [
    "!pip install tweepy"
   ]
  },
  {
   "cell_type": "code",
   "execution_count": 3,
   "id": "84dda89f-2491-432e-b53b-78a3b8059098",
   "metadata": {},
   "outputs": [],
   "source": [
    "import numpy as np\n",
    "import pandas as pd\n",
    "import matplotlib.pyplot as plt\n",
    "import seaborn as sns\n",
    "\n",
    "%matplotlib inline\n",
    "sns.set()"
   ]
  },
  {
   "cell_type": "code",
   "execution_count": 4,
   "id": "8d0f5241-a4dd-4126-a257-020d4cbff5a9",
   "metadata": {},
   "outputs": [
    {
     "data": {
      "text/html": [
       "<div>\n",
       "<style scoped>\n",
       "    .dataframe tbody tr th:only-of-type {\n",
       "        vertical-align: middle;\n",
       "    }\n",
       "\n",
       "    .dataframe tbody tr th {\n",
       "        vertical-align: top;\n",
       "    }\n",
       "\n",
       "    .dataframe thead th {\n",
       "        text-align: right;\n",
       "    }\n",
       "</style>\n",
       "<table border=\"1\" class=\"dataframe\">\n",
       "  <thead>\n",
       "    <tr style=\"text-align: right;\">\n",
       "      <th></th>\n",
       "      <th>tweet_id</th>\n",
       "      <th>assessment_option_id</th>\n",
       "    </tr>\n",
       "  </thead>\n",
       "  <tbody>\n",
       "    <tr>\n",
       "      <th>0</th>\n",
       "      <td>1227261586521382913</td>\n",
       "      <td>63</td>\n",
       "    </tr>\n",
       "    <tr>\n",
       "      <th>1</th>\n",
       "      <td>1227435952961937413</td>\n",
       "      <td>65</td>\n",
       "    </tr>\n",
       "    <tr>\n",
       "      <th>2</th>\n",
       "      <td>1227510231569092610</td>\n",
       "      <td>63</td>\n",
       "    </tr>\n",
       "    <tr>\n",
       "      <th>3</th>\n",
       "      <td>1227527803312099328</td>\n",
       "      <td>63</td>\n",
       "    </tr>\n",
       "    <tr>\n",
       "      <th>4</th>\n",
       "      <td>1227549055724617728</td>\n",
       "      <td>67</td>\n",
       "    </tr>\n",
       "  </tbody>\n",
       "</table>\n",
       "</div>"
      ],
      "text/plain": [
       "              tweet_id  assessment_option_id\n",
       "0  1227261586521382913                    63\n",
       "1  1227435952961937413                    65\n",
       "2  1227510231569092610                    63\n",
       "3  1227527803312099328                    63\n",
       "4  1227549055724617728                    67"
      ]
     },
     "execution_count": 4,
     "metadata": {},
     "output_type": "execute_result"
    }
   ],
   "source": [
    "# read COVID-19 datasets\n",
    "df = pd.read_csv('covid19.csv')\n",
    "df.head()"
   ]
  },
  {
   "cell_type": "code",
   "execution_count": 6,
   "id": "c890c2d8-ba7a-4c5b-a5c7-98bb85759d8e",
   "metadata": {},
   "outputs": [],
   "source": [
    "from api import twitter_api\n",
    "import random\n",
    "\n",
    "api = twitter_api(API_KEY, API_SECRET_KEY, ACCESS_TOKEN, ACCESS_TOKEN_SECRET)"
   ]
  },
  {
   "cell_type": "code",
   "execution_count": 52,
   "id": "24f05c27-714c-4955-995b-ac1d877e6656",
   "metadata": {},
   "outputs": [],
   "source": [
    "from lists_file import dumpJoblib, loadJoblib\n",
    "# a = loadJoblib('texts_list_4477_5374.joblib')\n",
    "# b = loadJoblib('texts_list_5375_6271.joblib')\n",
    "# c = loadJoblib('texts_list_6272_7169.joblib')\n",
    "# d = loadJoblib('texts_list_7170_8067.joblib')\n",
    "e = loadJoblib('texts_list_26926_27823.joblib')"
   ]
  },
  {
   "cell_type": "code",
   "execution_count": 53,
   "id": "7fa6fe15-3fd1-456a-9cc2-1cb6aa546116",
   "metadata": {},
   "outputs": [
    {
     "data": {
      "text/plain": [
       "'【楽天】★衛生生用品（除菌ジェル/マスク） https://t.co/mRBCH1XGs9\\n ★ストレス解消グッズ\\u3000https://t.co/xowbW41k3B\\n★フォロバ100％！ #ディズニー好きと繋がりたい… https://t.co/4EgWSCiBXc'"
      ]
     },
     "execution_count": 53,
     "metadata": {},
     "output_type": "execute_result"
    }
   ],
   "source": [
    "e[-1]"
   ]
  },
  {
   "cell_type": "code",
   "execution_count": 56,
   "id": "7b04a877-d658-45e3-b12a-5317496fcd41",
   "metadata": {},
   "outputs": [
    {
     "data": {
      "text/plain": [
       "'【アベ恐慌が来る】3年連続の貿易赤字は確実。自動車輸出でさえ元に戻るのに最低1年半かかる。「コロナショックは、じわじわと進んでいた日本の産業の衰退テンポを「超短期間」に縮めてしまった可能性がある」という。アベノミクスがいかに時間を… https://t.co/BNpHzIVkPZ'"
      ]
     },
     "execution_count": 56,
     "metadata": {},
     "output_type": "execute_result"
    }
   ],
   "source": [
    "e[2]"
   ]
  },
  {
   "cell_type": "code",
   "execution_count": 58,
   "id": "283a1b0e-56f8-4cc9-918f-281db852d457",
   "metadata": {},
   "outputs": [
    {
     "data": {
      "text/plain": [
       "tweet_id                1264885871645360128\n",
       "assessment_option_id                     67\n",
       "Name: 27823, dtype: int64"
      ]
     },
     "execution_count": 58,
     "metadata": {},
     "output_type": "execute_result"
    }
   ],
   "source": [
    "df.iloc[27823]"
   ]
  },
  {
   "cell_type": "code",
   "execution_count": 57,
   "id": "2b302ca0-41b7-4adc-a70b-ef3481b8867c",
   "metadata": {},
   "outputs": [
    {
     "data": {
      "text/plain": [
       "tweet_id                1264709507453607938\n",
       "assessment_option_id                     65\n",
       "Name: 26928, dtype: int64"
      ]
     },
     "execution_count": 57,
     "metadata": {},
     "output_type": "execute_result"
    }
   ],
   "source": [
    "df.iloc[26928]"
   ]
  },
  {
   "cell_type": "code",
   "execution_count": null,
   "id": "b002ee35-14c3-4a18-ac4b-66e903749e37",
   "metadata": {},
   "outputs": [],
   "source": []
  }
 ],
 "metadata": {
  "kernelspec": {
   "display_name": "Python 3",
   "language": "python",
   "name": "python3"
  },
  "language_info": {
   "codemirror_mode": {
    "name": "ipython",
    "version": 3
   },
   "file_extension": ".py",
   "mimetype": "text/x-python",
   "name": "python",
   "nbconvert_exporter": "python",
   "pygments_lexer": "ipython3",
   "version": "3.8.8"
  }
 },
 "nbformat": 4,
 "nbformat_minor": 5
}
