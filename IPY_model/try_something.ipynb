{
 "cells": [
  {
   "cell_type": "code",
   "execution_count": 1,
   "id": "bccd969e-b911-4113-b964-54ebd0e89bc2",
   "metadata": {},
   "outputs": [],
   "source": [
    "%load_ext autoreload\n",
    "%autoreload 2"
   ]
  },
  {
   "cell_type": "code",
   "execution_count": 2,
   "id": "e616195c-98e2-4450-a5cc-c1c6fe55b701",
   "metadata": {},
   "outputs": [
    {
     "name": "stdout",
     "output_type": "stream",
     "text": [
      "Requirement already satisfied: transformers==4.5.0 in /home/takakiyuto/anaconda3/lib/python3.8/site-packages (4.5.0)\n",
      "Requirement already satisfied: fugashi==1.1.0 in /home/takakiyuto/anaconda3/lib/python3.8/site-packages (1.1.0)\n",
      "Requirement already satisfied: ipadic==1.0.0 in /home/takakiyuto/anaconda3/lib/python3.8/site-packages (1.0.0)\n",
      "Requirement already satisfied: pytorch-lightning==1.2.7 in /home/takakiyuto/anaconda3/lib/python3.8/site-packages (1.2.7)\n",
      "Requirement already satisfied: tqdm>=4.41.0 in /home/takakiyuto/anaconda3/lib/python3.8/site-packages (from pytorch-lightning==1.2.7) (4.59.0)\n",
      "Requirement already satisfied: torchmetrics>=0.2.0 in /home/takakiyuto/anaconda3/lib/python3.8/site-packages (from pytorch-lightning==1.2.7) (0.2.0)\n",
      "Requirement already satisfied: numpy>=1.16.6 in /home/takakiyuto/anaconda3/lib/python3.8/site-packages (from pytorch-lightning==1.2.7) (1.20.1)\n",
      "Requirement already satisfied: future>=0.17.1 in /home/takakiyuto/anaconda3/lib/python3.8/site-packages (from pytorch-lightning==1.2.7) (0.18.2)\n",
      "Requirement already satisfied: PyYAML!=5.4.*,>=5.1 in /home/takakiyuto/anaconda3/lib/python3.8/site-packages (from pytorch-lightning==1.2.7) (5.3.1)\n",
      "Requirement already satisfied: tensorboard>=2.2.0 in /home/takakiyuto/anaconda3/lib/python3.8/site-packages (from pytorch-lightning==1.2.7) (2.6.0)\n",
      "Requirement already satisfied: torch>=1.4 in /home/takakiyuto/anaconda3/lib/python3.8/site-packages (from pytorch-lightning==1.2.7) (1.9.0)\n",
      "Requirement already satisfied: fsspec[http]>=0.8.1 in /home/takakiyuto/anaconda3/lib/python3.8/site-packages (from pytorch-lightning==1.2.7) (0.9.0)\n",
      "Requirement already satisfied: regex!=2019.12.17 in /home/takakiyuto/anaconda3/lib/python3.8/site-packages (from transformers==4.5.0) (2021.4.4)\n",
      "Requirement already satisfied: sacremoses in /home/takakiyuto/anaconda3/lib/python3.8/site-packages (from transformers==4.5.0) (0.0.45)\n",
      "Requirement already satisfied: requests in /home/takakiyuto/anaconda3/lib/python3.8/site-packages (from transformers==4.5.0) (2.25.1)\n",
      "Requirement already satisfied: packaging in /home/takakiyuto/anaconda3/lib/python3.8/site-packages (from transformers==4.5.0) (20.9)\n",
      "Requirement already satisfied: filelock in /home/takakiyuto/anaconda3/lib/python3.8/site-packages (from transformers==4.5.0) (3.0.12)\n",
      "Requirement already satisfied: tokenizers<0.11,>=0.10.1 in /home/takakiyuto/anaconda3/lib/python3.8/site-packages (from transformers==4.5.0) (0.10.3)\n",
      "Requirement already satisfied: aiohttp in /home/takakiyuto/anaconda3/lib/python3.8/site-packages (from fsspec[http]>=0.8.1->pytorch-lightning==1.2.7) (3.7.4.post0)\n",
      "Requirement already satisfied: grpcio>=1.24.3 in /home/takakiyuto/anaconda3/lib/python3.8/site-packages (from tensorboard>=2.2.0->pytorch-lightning==1.2.7) (1.40.0)\n",
      "Requirement already satisfied: setuptools>=41.0.0 in /home/takakiyuto/anaconda3/lib/python3.8/site-packages (from tensorboard>=2.2.0->pytorch-lightning==1.2.7) (52.0.0.post20210125)\n",
      "Requirement already satisfied: google-auth<2,>=1.6.3 in /home/takakiyuto/anaconda3/lib/python3.8/site-packages (from tensorboard>=2.2.0->pytorch-lightning==1.2.7) (1.35.0)\n",
      "Requirement already satisfied: protobuf>=3.6.0 in /home/takakiyuto/anaconda3/lib/python3.8/site-packages (from tensorboard>=2.2.0->pytorch-lightning==1.2.7) (3.18.0)\n",
      "Requirement already satisfied: werkzeug>=0.11.15 in /home/takakiyuto/anaconda3/lib/python3.8/site-packages (from tensorboard>=2.2.0->pytorch-lightning==1.2.7) (1.0.1)\n",
      "Requirement already satisfied: wheel>=0.26 in /home/takakiyuto/anaconda3/lib/python3.8/site-packages (from tensorboard>=2.2.0->pytorch-lightning==1.2.7) (0.36.2)\n",
      "Requirement already satisfied: markdown>=2.6.8 in /home/takakiyuto/anaconda3/lib/python3.8/site-packages (from tensorboard>=2.2.0->pytorch-lightning==1.2.7) (3.3.4)\n",
      "Requirement already satisfied: tensorboard-data-server<0.7.0,>=0.6.0 in /home/takakiyuto/anaconda3/lib/python3.8/site-packages (from tensorboard>=2.2.0->pytorch-lightning==1.2.7) (0.6.1)\n",
      "Requirement already satisfied: absl-py>=0.4 in /home/takakiyuto/anaconda3/lib/python3.8/site-packages (from tensorboard>=2.2.0->pytorch-lightning==1.2.7) (0.13.0)\n",
      "Requirement already satisfied: tensorboard-plugin-wit>=1.6.0 in /home/takakiyuto/anaconda3/lib/python3.8/site-packages (from tensorboard>=2.2.0->pytorch-lightning==1.2.7) (1.8.0)\n",
      "Requirement already satisfied: google-auth-oauthlib<0.5,>=0.4.1 in /home/takakiyuto/anaconda3/lib/python3.8/site-packages (from tensorboard>=2.2.0->pytorch-lightning==1.2.7) (0.4.6)\n",
      "Requirement already satisfied: six in /home/takakiyuto/anaconda3/lib/python3.8/site-packages (from absl-py>=0.4->tensorboard>=2.2.0->pytorch-lightning==1.2.7) (1.15.0)\n",
      "Requirement already satisfied: rsa<5,>=3.1.4 in /home/takakiyuto/anaconda3/lib/python3.8/site-packages (from google-auth<2,>=1.6.3->tensorboard>=2.2.0->pytorch-lightning==1.2.7) (4.7.2)\n",
      "Requirement already satisfied: pyasn1-modules>=0.2.1 in /home/takakiyuto/anaconda3/lib/python3.8/site-packages (from google-auth<2,>=1.6.3->tensorboard>=2.2.0->pytorch-lightning==1.2.7) (0.2.8)\n",
      "Requirement already satisfied: cachetools<5.0,>=2.0.0 in /home/takakiyuto/anaconda3/lib/python3.8/site-packages (from google-auth<2,>=1.6.3->tensorboard>=2.2.0->pytorch-lightning==1.2.7) (4.2.2)\n",
      "Requirement already satisfied: requests-oauthlib>=0.7.0 in /home/takakiyuto/anaconda3/lib/python3.8/site-packages (from google-auth-oauthlib<0.5,>=0.4.1->tensorboard>=2.2.0->pytorch-lightning==1.2.7) (1.3.0)\n",
      "Requirement already satisfied: pyasn1<0.5.0,>=0.4.6 in /home/takakiyuto/anaconda3/lib/python3.8/site-packages (from pyasn1-modules>=0.2.1->google-auth<2,>=1.6.3->tensorboard>=2.2.0->pytorch-lightning==1.2.7) (0.4.8)\n",
      "Requirement already satisfied: urllib3<1.27,>=1.21.1 in /home/takakiyuto/anaconda3/lib/python3.8/site-packages (from requests->transformers==4.5.0) (1.26.4)\n",
      "Requirement already satisfied: certifi>=2017.4.17 in /home/takakiyuto/anaconda3/lib/python3.8/site-packages (from requests->transformers==4.5.0) (2020.12.5)\n",
      "Requirement already satisfied: idna<3,>=2.5 in /home/takakiyuto/anaconda3/lib/python3.8/site-packages (from requests->transformers==4.5.0) (2.10)\n",
      "Requirement already satisfied: chardet<5,>=3.0.2 in /home/takakiyuto/anaconda3/lib/python3.8/site-packages (from requests->transformers==4.5.0) (4.0.0)\n",
      "Requirement already satisfied: oauthlib>=3.0.0 in /home/takakiyuto/anaconda3/lib/python3.8/site-packages (from requests-oauthlib>=0.7.0->google-auth-oauthlib<0.5,>=0.4.1->tensorboard>=2.2.0->pytorch-lightning==1.2.7) (3.1.1)\n",
      "Requirement already satisfied: typing_extensions in /home/takakiyuto/anaconda3/lib/python3.8/site-packages (from torch>=1.4->pytorch-lightning==1.2.7) (3.7.4.3)\n",
      "Requirement already satisfied: attrs>=17.3.0 in /home/takakiyuto/anaconda3/lib/python3.8/site-packages (from aiohttp->fsspec[http]>=0.8.1->pytorch-lightning==1.2.7) (20.3.0)\n",
      "Requirement already satisfied: multidict<7.0,>=4.5 in /home/takakiyuto/anaconda3/lib/python3.8/site-packages (from aiohttp->fsspec[http]>=0.8.1->pytorch-lightning==1.2.7) (5.1.0)\n",
      "Requirement already satisfied: async-timeout<4.0,>=3.0 in /home/takakiyuto/anaconda3/lib/python3.8/site-packages (from aiohttp->fsspec[http]>=0.8.1->pytorch-lightning==1.2.7) (3.0.1)\n",
      "Requirement already satisfied: yarl<2.0,>=1.0 in /home/takakiyuto/anaconda3/lib/python3.8/site-packages (from aiohttp->fsspec[http]>=0.8.1->pytorch-lightning==1.2.7) (1.6.3)\n",
      "Requirement already satisfied: pyparsing>=2.0.2 in /home/takakiyuto/anaconda3/lib/python3.8/site-packages (from packaging->transformers==4.5.0) (2.4.7)\n",
      "Requirement already satisfied: joblib in /home/takakiyuto/anaconda3/lib/python3.8/site-packages (from sacremoses->transformers==4.5.0) (1.0.1)\n",
      "Requirement already satisfied: click in /home/takakiyuto/anaconda3/lib/python3.8/site-packages (from sacremoses->transformers==4.5.0) (7.1.2)\n"
     ]
    }
   ],
   "source": [
    "!pip install transformers==4.5.0 fugashi==1.1.0 ipadic==1.0.0 pytorch-lightning==1.2.7"
   ]
  },
  {
   "cell_type": "code",
   "execution_count": 3,
   "id": "dc721891-f85d-498e-891c-376cebcaeb8f",
   "metadata": {},
   "outputs": [],
   "source": [
    "import random \n",
    "import glob\n",
    "import json\n",
    "from tqdm import tqdm\n",
    "import unicodedata\n",
    "\n",
    "import numpy as np\n",
    "import pandas as pd\n",
    "import torch\n",
    "from torch.utils.data import DataLoader\n",
    "import pytorch_lightning as pl\n",
    "from transformers import BertTokenizer, BertModel\n",
    "\n",
    "from lists_file import dumpJoblib, loadJoblib\n",
    "from multi_classification import BertForSequenceClassificationMultiLabel\n",
    "\n",
    "MODEL_NAME = 'cl-tohoku/bert-base-japanese-whole-word-masking'"
   ]
  },
  {
   "cell_type": "code",
   "execution_count": 4,
   "id": "d7a418cc-bee6-4c8b-a606-f1339e40ea16",
   "metadata": {},
   "outputs": [
    {
     "data": {
      "text/plain": [
       "device(type='cuda')"
      ]
     },
     "execution_count": 4,
     "metadata": {},
     "output_type": "execute_result"
    }
   ],
   "source": [
    "device = torch.device('cuda') if torch.cuda.is_available() else torch.device('cpu')\n",
    "device"
   ]
  },
  {
   "cell_type": "code",
   "execution_count": 5,
   "id": "9d464fad-cc5b-41ef-b320-55e222c20b4b",
   "metadata": {},
   "outputs": [
    {
     "name": "stdout",
     "output_type": "stream",
     "text": [
      "37543\n"
     ]
    }
   ],
   "source": [
    "X_train = loadJoblib('remove_data/rm_n_u3000_um_url_series_em')\n",
    "y_train = loadJoblib('label_file.joblib')\n",
    "print(len(X_train))"
   ]
  },
  {
   "cell_type": "code",
   "execution_count": 6,
   "id": "83814bdc-6791-41c8-bf34-2a340c7ab4a1",
   "metadata": {},
   "outputs": [],
   "source": [
    "tokenizer = BertTokenizer.from_pretrained(MODEL_NAME)\n",
    "bert_scml = BertForSequenceClassificationMultiLabel(\n",
    "    MODEL_NAME, num_labels=6\n",
    ") \n",
    "bert_scml = bert_scml.to(device=device)"
   ]
  },
  {
   "cell_type": "code",
   "execution_count": 7,
   "id": "849cc46c-a353-4313-9f58-20cb511c3487",
   "metadata": {},
   "outputs": [],
   "source": [
    "list = []\n",
    "label = []\n",
    "for i , j in zip(X_train, y_train):\n",
    "    list.append(i)\n",
    "    label.append(j)"
   ]
  },
  {
   "cell_type": "code",
   "execution_count": 8,
   "id": "513675c7-8a85-407a-918a-4da5107e8481",
   "metadata": {},
   "outputs": [],
   "source": [
    "labels = []\n",
    "for emotion in label:\n",
    "    if emotion == 63:\n",
    "        labels.append([1, 0, 0, 0, 0, 0])\n",
    "    elif emotion == 64:\n",
    "        labels.append([0, 1, 0, 0, 0, 0])\n",
    "    elif emotion == 65:\n",
    "        labels.append([0, 0, 1, 0, 0, 0])\n",
    "    elif emotion == 66:\n",
    "        labels.append([0, 0, 0, 1, 0, 0])\n",
    "    elif emotion == 67:\n",
    "        labels.append([0, 0, 0, 0, 1, 0])\n",
    "    else:\n",
    "        labels.append([0, 0, 0, 0, 0, 1])"
   ]
  },
  {
   "cell_type": "code",
   "execution_count": 9,
   "id": "ad6ca987-411f-4b02-9b3f-1103ecbdfeb3",
   "metadata": {},
   "outputs": [],
   "source": [
    "max_length = 152\n",
    "dataset_for_loader = []\n",
    "\n",
    "for i in range(len(list)):\n",
    "    text = list[i]\n",
    "    encoding = tokenizer(\n",
    "      text, \n",
    "      max_length=max_length,\n",
    "      padding='max_length',\n",
    "      truncation=True\n",
    "    )\n",
    "    encoding['labels'] = labels[i]\n",
    "    encoding = {k: torch.tensor(v).to(device=device) for k, v in encoding.items() }\n",
    "    dataset_for_loader.append(encoding)\n",
    "    \n",
    "\n",
    "random.shuffle(dataset_for_loader)\n",
    "n = len(dataset_for_loader)\n",
    "n_train = int(0.6*n)\n",
    "n_val = int(0.2*n)\n",
    "dataset_train = dataset_for_loader[:n_train]\n",
    "dataset_val = dataset_for_loader[n_train:n_train+n_val]\n",
    "dataset_test = dataset_for_loader[n_train+n_val:]"
   ]
  },
  {
   "cell_type": "code",
   "execution_count": 10,
   "id": "63d3f100-54d2-45b8-8f4f-579f82c13bc1",
   "metadata": {},
   "outputs": [
    {
     "data": {
      "text/plain": [
       "<torch.utils.data.dataloader.DataLoader at 0x7f9246852e20>"
      ]
     },
     "execution_count": 10,
     "metadata": {},
     "output_type": "execute_result"
    }
   ],
   "source": [
    "dataloader_train = DataLoader(\n",
    "    dataset_train, batch_size=16, shuffle=True\n",
    ")\n",
    "dataloader_val = DataLoader(\n",
    "    dataset_val, batch_size=16\n",
    ")\n",
    "dataloader_test = DataLoader(\n",
    "    dataset_test, batch_size=16\n",
    ")\n",
    "\n",
    "dataloader_val"
   ]
  },
  {
   "cell_type": "code",
   "execution_count": 11,
   "id": "5925c508-4578-4316-9bde-5ef11740197e",
   "metadata": {},
   "outputs": [
    {
     "name": "stderr",
     "output_type": "stream",
     "text": [
      "/home/takakiyuto/anaconda3/lib/python3.8/site-packages/pytorch_lightning/utilities/distributed.py:52: UserWarning: Checkpoint directory model/ exists and is not empty.\n",
      "  warnings.warn(*args, **kwargs)\n",
      "GPU available: True, used: True\n",
      "TPU available: False, using: 0 TPU cores\n",
      "LOCAL_RANK: 0 - CUDA_VISIBLE_DEVICES: [0]\n",
      "\n",
      "  | Name      | Type                                    | Params\n",
      "----------------------------------------------------------------------\n",
      "0 | bert_scml | BertForSequenceClassificationMultiLabel | 110 M \n",
      "----------------------------------------------------------------------\n",
      "110 M     Trainable params\n",
      "0         Non-trainable params\n",
      "110 M     Total params\n",
      "442.488   Total estimated model params size (MB)\n",
      "/home/takakiyuto/anaconda3/lib/python3.8/site-packages/pytorch_lightning/utilities/distributed.py:52: UserWarning: The dataloader, val dataloader 0, does not have many workers which may be a bottleneck. Consider increasing the value of the `num_workers` argument` (try 16 which is the number of cpus on this machine) in the `DataLoader` init to improve performance.\n",
      "  warnings.warn(*args, **kwargs)\n"
     ]
    },
    {
     "data": {
      "application/vnd.jupyter.widget-view+json": {
       "model_id": "",
       "version_major": 2,
       "version_minor": 0
      },
      "text/plain": [
       "Validation sanity check: 0it [00:00, ?it/s]"
      ]
     },
     "metadata": {},
     "output_type": "display_data"
    },
    {
     "name": "stderr",
     "output_type": "stream",
     "text": [
      "/home/takakiyuto/anaconda3/lib/python3.8/site-packages/pytorch_lightning/utilities/distributed.py:52: UserWarning: The dataloader, train dataloader, does not have many workers which may be a bottleneck. Consider increasing the value of the `num_workers` argument` (try 16 which is the number of cpus on this machine) in the `DataLoader` init to improve performance.\n",
      "  warnings.warn(*args, **kwargs)\n"
     ]
    },
    {
     "data": {
      "application/vnd.jupyter.widget-view+json": {
       "model_id": "db8a10117de14a1fb9b6d0c2ffa1b274",
       "version_major": 2,
       "version_minor": 0
      },
      "text/plain": [
       "Training: 0it [00:00, ?it/s]"
      ]
     },
     "metadata": {},
     "output_type": "display_data"
    },
    {
     "data": {
      "application/vnd.jupyter.widget-view+json": {
       "model_id": "",
       "version_major": 2,
       "version_minor": 0
      },
      "text/plain": [
       "Validating: 0it [00:00, ?it/s]"
      ]
     },
     "metadata": {},
     "output_type": "display_data"
    },
    {
     "data": {
      "application/vnd.jupyter.widget-view+json": {
       "model_id": "",
       "version_major": 2,
       "version_minor": 0
      },
      "text/plain": [
       "Validating: 0it [00:00, ?it/s]"
      ]
     },
     "metadata": {},
     "output_type": "display_data"
    },
    {
     "data": {
      "text/plain": [
       "1"
      ]
     },
     "execution_count": 11,
     "metadata": {},
     "output_type": "execute_result"
    }
   ],
   "source": [
    "from pytorch_lightning_multi import BertForSequenceClassificationMultiLabel_pl\n",
    "\n",
    "checkpoint = pl.callbacks.ModelCheckpoint(\n",
    "    monitor='val_loss',\n",
    "    mode='min',\n",
    "    save_top_k=1,\n",
    "    save_weights_only=True,\n",
    "    dirpath='part/model/'\n",
    ")\n",
    "\n",
    "#学習方法指定\n",
    "trainer = pl.Trainer(\n",
    "    gpus=1,\n",
    "    max_epochs=10,\n",
    "    callbacks=[checkpoint]\n",
    ")\n",
    "\n",
    "model = BertForSequenceClassificationMultiLabel_pl(\n",
    "    MODEL_NAME, num_labels=6, lr=1e-5\n",
    ")\n",
    "\n",
    "trainer.fit(model, dataloader_train, dataloader_val)"
   ]
  },
  {
   "cell_type": "code",
   "execution_count": 12,
   "id": "380ade74-c21e-43bb-9f7c-311d44def742",
   "metadata": {},
   "outputs": [
    {
     "name": "stdout",
     "output_type": "stream",
     "text": [
      "validation data loss:0.17508111894130707\n"
     ]
    }
   ],
   "source": [
    "best_model_path = checkpoint.best_model_path\n",
    "print(f'validation data loss:{checkpoint.best_model_score}')"
   ]
  },
  {
   "cell_type": "code",
   "execution_count": 13,
   "id": "de086dd2-411f-4671-8d21-171fade7c4a6",
   "metadata": {},
   "outputs": [
    {
     "data": {
      "text/html": [
       "\n",
       "      <iframe id=\"tensorboard-frame-37909b3cb273305f\" width=\"100%\" height=\"800\" frameborder=\"0\">\n",
       "      </iframe>\n",
       "      <script>\n",
       "        (function() {\n",
       "          const frame = document.getElementById(\"tensorboard-frame-37909b3cb273305f\");\n",
       "          const url = new URL(\"/\", window.location);\n",
       "          const port = 6006;\n",
       "          if (port) {\n",
       "            url.port = port;\n",
       "          }\n",
       "          frame.src = url;\n",
       "        })();\n",
       "      </script>\n",
       "    "
      ],
      "text/plain": [
       "<IPython.core.display.HTML object>"
      ]
     },
     "metadata": {},
     "output_type": "display_data"
    }
   ],
   "source": [
    "%load_ext tensorboard\n",
    "%tensorboard --logdir ./"
   ]
  },
  {
   "cell_type": "code",
   "execution_count": 14,
   "id": "0858ac3a-b51d-439e-9c8b-1f0db57542bb",
   "metadata": {},
   "outputs": [
    {
     "name": "stderr",
     "output_type": "stream",
     "text": [
      "LOCAL_RANK: 0 - CUDA_VISIBLE_DEVICES: [0]\n",
      "/home/takakiyuto/anaconda3/lib/python3.8/site-packages/pytorch_lightning/utilities/distributed.py:52: UserWarning: The dataloader, test dataloader 0, does not have many workers which may be a bottleneck. Consider increasing the value of the `num_workers` argument` (try 16 which is the number of cpus on this machine) in the `DataLoader` init to improve performance.\n",
      "  warnings.warn(*args, **kwargs)\n"
     ]
    },
    {
     "data": {
      "application/vnd.jupyter.widget-view+json": {
       "model_id": "44834926ac2e4e41ac4a8cc5789ba67b",
       "version_major": 2,
       "version_minor": 0
      },
      "text/plain": [
       "Testing: 0it [00:00, ?it/s]"
      ]
     },
     "metadata": {},
     "output_type": "display_data"
    },
    {
     "name": "stdout",
     "output_type": "stream",
     "text": [
      "--------------------------------------------------------------------------------\n",
      "DATALOADER:0 TEST RESULTS\n",
      "{'accuracy': 0.7410119771957397}\n",
      "--------------------------------------------------------------------------------\n",
      "Accuracy: 0.7410\n"
     ]
    }
   ],
   "source": [
    "test = trainer.test(test_dataloaders=dataloader_test, ckpt_path=best_model_path)\n",
    "print(f'Accuracy: {test[0][\"accuracy\"]:.4f}')"
   ]
  },
  {
   "cell_type": "code",
   "execution_count": 15,
   "id": "512d3034-46be-4d70-8a83-ab18915e820d",
   "metadata": {},
   "outputs": [],
   "source": [
    "model = BertForSequenceClassificationMultiLabel_pl.load_from_checkpoint(best_model_path)\n",
    "\n",
    "# #transformers対応\n",
    "# model.save_pretrained('./model_transformers')"
   ]
  },
  {
   "cell_type": "code",
   "execution_count": 16,
   "id": "a0b2b4b9-20da-4bc0-9bfe-a0b23d12c364",
   "metadata": {},
   "outputs": [],
   "source": [
    "# save_pretrained\n",
    "\n",
    "# model = BertForSequenceClassificationMultiLabel_pl.load_from_checkpoint('model/epoch=1-step=2815.ckpt')\n",
    "\n",
    "# model.bert_scml.save_pretrained('./model_transformers')\n",
    "\n",
    "# model.bert_scml.__dict__"
   ]
  },
  {
   "cell_type": "code",
   "execution_count": 17,
   "id": "1b205206-dcb4-41fc-b95b-78ffcf7fac0b",
   "metadata": {},
   "outputs": [
    {
     "data": {
      "text/plain": [
       "'/home/takakiyuto/Desktop/RESEARCH-COVID19-datasets/model/epoch=0-step=1407.ckpt'"
      ]
     },
     "execution_count": 17,
     "metadata": {},
     "output_type": "execute_result"
    }
   ],
   "source": [
    "best_model_path"
   ]
  }
 ],
 "metadata": {
  "kernelspec": {
   "display_name": "Python 3",
   "language": "python",
   "name": "python3"
  },
  "language_info": {
   "codemirror_mode": {
    "name": "ipython",
    "version": 3
   },
   "file_extension": ".py",
   "mimetype": "text/x-python",
   "name": "python",
   "nbconvert_exporter": "python",
   "pygments_lexer": "ipython3",
   "version": "3.8.8"
  }
 },
 "nbformat": 4,
 "nbformat_minor": 5
}
