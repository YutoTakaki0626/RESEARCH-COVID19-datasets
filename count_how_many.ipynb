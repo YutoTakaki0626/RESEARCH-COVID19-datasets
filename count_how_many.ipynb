{
 "cells": [
  {
   "cell_type": "code",
   "execution_count": 2,
   "id": "f834f966-9248-4185-85c2-3c50f6facfb0",
   "metadata": {},
   "outputs": [],
   "source": [
    "%load_ext autoreload\n",
    "%autoreload 2"
   ]
  },
  {
   "cell_type": "code",
   "execution_count": 3,
   "id": "3ce58a88-8d3f-40f0-b786-bb3816bb1aa1",
   "metadata": {},
   "outputs": [],
   "source": [
    "from PY_tweet.lists_file import *\n",
    "\n",
    "tweets_list = loadJoblib('DATA_all_texts/only_4labels_textdata.joblib')"
   ]
  },
  {
   "cell_type": "code",
   "execution_count": 4,
   "id": "a9a62a5c-543a-441b-a052-b1c5ce3951a3",
   "metadata": {},
   "outputs": [
    {
     "name": "stdout",
     "output_type": "stream",
     "text": [
      "Requirement already satisfied: janome in /home/takakiyuto/anaconda3/lib/python3.8/site-packages (0.4.1)\n"
     ]
    }
   ],
   "source": [
    "!pip install janome"
   ]
  },
  {
   "cell_type": "code",
   "execution_count": 5,
   "id": "b8db163b-85a8-42eb-82a8-861d0764b3b1",
   "metadata": {},
   "outputs": [],
   "source": [
    "from janome.tokenizer import Tokenizer\n",
    "from janome.analyzer import Analyzer\n",
    "from janome.tokenfilter import POSStopFilter\n",
    "\n",
    "tokenizer = Tokenizer()\n",
    "token_filters = [POSStopFilter(['記号','助詞','助動詞','動詞'])]\n",
    "a = Analyzer(tokenizer=tokenizer, token_filters=token_filters)"
   ]
  },
  {
   "cell_type": "code",
   "execution_count": 6,
   "id": "aeee144d-687c-431a-acdb-24b73c0d8b87",
   "metadata": {},
   "outputs": [],
   "source": [
    "test_tokens = a.analyze(tweets_list)"
   ]
  },
  {
   "cell_type": "code",
   "execution_count": 7,
   "id": "eda1ac3c-9892-477e-b6d4-d1ff438c6333",
   "metadata": {},
   "outputs": [],
   "source": [
    "wakati = {}\n",
    "for idx, tweet in enumerate(tweets_list):\n",
    "    tokens = a.analyze(tweet)\n",
    "    wakati[idx] = ' '.join([t.surface for t in tokens])"
   ]
  },
  {
   "cell_type": "code",
   "execution_count": 8,
   "id": "5b5ef4e4-af9b-418a-815c-a54825249d03",
   "metadata": {},
   "outputs": [],
   "source": [
    "from sklearn.feature_extraction.text import CountVectorizer\n",
    "import random\n",
    "vectorizer = CountVectorizer()"
   ]
  },
  {
   "cell_type": "code",
   "execution_count": 9,
   "id": "7e36adf9-47f7-4617-922a-1a261fc744b6",
   "metadata": {},
   "outputs": [],
   "source": [
    "X = vectorizer.fit_transform(wakati[i] for i in wakati.keys())\n",
    "bows = {}\n",
    "for i, bow in enumerate(X.toarray()):\n",
    "    bows[i] = bow"
   ]
  },
  {
   "cell_type": "code",
   "execution_count": 28,
   "id": "14dd77c1-acb1-4712-a25a-9d91ddf5ce53",
   "metadata": {},
   "outputs": [],
   "source": [
    "WORDS = vectorizer.get_feature_names()\n",
    "# print(WORDS)"
   ]
  },
  {
   "cell_type": "code",
   "execution_count": 20,
   "id": "1670eff1-a6d7-466d-8637-4b2945aafa6b",
   "metadata": {},
   "outputs": [],
   "source": [
    "count = []\n",
    "for _ in range(len(bows[0])):\n",
    "    count.append(0)"
   ]
  },
  {
   "cell_type": "code",
   "execution_count": 21,
   "id": "d673c1a4-1e81-45cb-9c20-9ef7cb738fea",
   "metadata": {},
   "outputs": [
    {
     "data": {
      "text/plain": [
       "64980"
      ]
     },
     "execution_count": 21,
     "metadata": {},
     "output_type": "execute_result"
    }
   ],
   "source": [
    "len(count)"
   ]
  },
  {
   "cell_type": "code",
   "execution_count": 29,
   "id": "0d6e5302-33f7-4192-953c-963ea8afb7e3",
   "metadata": {},
   "outputs": [
    {
     "name": "stdout",
     "output_type": "stream",
     "text": [
      "19はあります\n",
      "coはあります\n",
      "covidはあります\n",
      "httpsはあります\n",
      "whoはあります\n",
      "zfqkggxpseはあります\n",
      "ウイルスはあります\n",
      "コロナはあります\n",
      "名称はあります\n",
      "新型はあります\n",
      "更新はあります\n",
      "正式はあります\n",
      "発表はあります\n"
     ]
    }
   ],
   "source": [
    "for idx, cnt in enumerate(bows[0]):\n",
    "    if cnt != 0:\n",
    "        print(f'{WORDS[idx]}はあります')"
   ]
  },
  {
   "cell_type": "code",
   "execution_count": 31,
   "id": "f76b9fa4-9b62-4596-ac75-4e729c5c0ce5",
   "metadata": {},
   "outputs": [],
   "source": [
    "count = []\n",
    "for _ in range(len(bows[0])):\n",
    "    count.append(0)\n",
    "\n",
    "for i in range(len(bows)):\n",
    "    for idx, cnt in enumerate(bows[i]):\n",
    "        count[idx] += cnt"
   ]
  },
  {
   "cell_type": "code",
   "execution_count": 32,
   "id": "c0a1c992-da5e-4cf9-85c7-706ffb9a0cd4",
   "metadata": {},
   "outputs": [
    {
     "data": {
      "text/plain": [
       "[261, 76, 4, 1, 2, 3, 8, 1, 1, 1]"
      ]
     },
     "execution_count": 32,
     "metadata": {},
     "output_type": "execute_result"
    }
   ],
   "source": [
    "count[:10]"
   ]
  },
  {
   "cell_type": "code",
   "execution_count": 73,
   "id": "d2682516-135a-409f-b0ab-2163be1390a3",
   "metadata": {},
   "outputs": [],
   "source": [
    "import numpy as np\n",
    "\n",
    "count_np = np.array(count)\n",
    "count_np_index = np.argsort(count_np)[::-1]"
   ]
  },
  {
   "cell_type": "code",
   "execution_count": 74,
   "id": "6ed3923f-d2d5-4b08-af28-e654bc179bcf",
   "metadata": {},
   "outputs": [],
   "source": [
    "np.save('count_np.npy', count_np)\n",
    "np.save('count_np_index.npy', count_np_index)"
   ]
  },
  {
   "cell_type": "code",
   "execution_count": 100,
   "id": "d5660dbd-6405-4883-adf3-283c552ba0e5",
   "metadata": {},
   "outputs": [],
   "source": [
    "top100 = []\n",
    "\n",
    "for i in count_np_index[:300]:\n",
    "    top100.append([WORDS[i], count_np[i]])"
   ]
  },
  {
   "cell_type": "code",
   "execution_count": 101,
   "id": "f9cc7ae3-ddef-4fcc-b575-974b3698382a",
   "metadata": {},
   "outputs": [
    {
     "name": "stderr",
     "output_type": "stream",
     "text": [
      "/home/takakiyuto/anaconda3/lib/python3.8/site-packages/seaborn/distributions.py:2557: FutureWarning: `distplot` is a deprecated function and will be removed in a future version. Please adapt your code to use either `displot` (a figure-level function with similar flexibility) or `histplot` (an axes-level function for histograms).\n",
      "  warnings.warn(msg, FutureWarning)\n"
     ]
    },
    {
     "data": {
      "image/png": "[encoded data removed]",
      "text/plain": [
       "<Figure size 432x288 with 1 Axes>"
      ]
     },
     "metadata": {},
     "output_type": "display_data"
    }
   ],
   "source": [
    "import matplotlib.pyplot as plt\n",
    "import seaborn as sns\n",
    "sns.set()\n",
    "\n",
    "sns.distplot(count_np[count_np_index[:100]])\n",
    "plt.show()"
   ]
  },
  {
   "cell_type": "code",
   "execution_count": 102,
   "id": "f5ed07ef-025e-4d2f-bd0a-26db737e48f0",
   "metadata": {},
   "outputs": [
    {
     "data": {
      "text/plain": [
       "[['コロナ', 39757],\n",
       " ['co', 22782],\n",
       " ['https', 22736],\n",
       " ['新型', 11834],\n",
       " ['ウイルス', 9695],\n",
       " ['感染', 7922],\n",
       " ['こと', 3840],\n",
       " ['対策', 3332],\n",
       " ['マスク', 2808],\n",
       " ['日本', 2546],\n",
       " ['19', 2382],\n",
       " ['影響', 2273],\n",
       " ['さん', 2230],\n",
       " ['covid', 2185],\n",
       " ['ニュース', 2110],\n",
       " ['ない', 1999],\n",
       " ['よう', 1965],\n",
       " ['そう', 1878],\n",
       " ['この', 1869],\n",
       " ['ウィルス', 1776],\n",
       " ['東京', 1763],\n",
       " ['中国', 1742],\n",
       " ['いい', 1608],\n",
       " ['今日', 1593],\n",
       " ['これ', 1433],\n",
       " ['自粛', 1353],\n",
       " ['拡大', 1224],\n",
       " ['どう', 1169],\n",
       " ['ため', 1169],\n",
       " ['世界', 1162],\n",
       " ['肺炎', 1151],\n",
       " ['緊急', 1135],\n",
       " ['医療', 1133],\n",
       " ['事態', 1081],\n",
       " ['経済', 1074],\n",
       " ['10', 1059],\n",
       " ['情報', 1046],\n",
       " ['仕事', 1025],\n",
       " ['検査', 1015],\n",
       " ['時間', 1012],\n",
       " ['確認', 983],\n",
       " ['宣言', 981],\n",
       " ['みんな', 954],\n",
       " ['支援', 951],\n",
       " ['もう', 949],\n",
       " ['対応', 940],\n",
       " ['解除', 935],\n",
       " ['質問', 922],\n",
       " ['自分', 911],\n",
       " ['2020', 876],\n",
       " ['政府', 874],\n",
       " ['せい', 860],\n",
       " ['生活', 860],\n",
       " ['オンライン', 859],\n",
       " ['その', 841],\n",
       " ['それ', 830],\n",
       " ['中止', 813],\n",
       " ['また', 811],\n",
       " ['再開', 798],\n",
       " ['安倍', 765],\n",
       " ['まだ', 757],\n",
       " ['新た', 752],\n",
       " ['みたい', 743],\n",
       " ['怖い', 721],\n",
       " ['もの', 716],\n",
       " ['武漢', 714],\n",
       " ['状況', 708],\n",
       " ['早く', 687],\n",
       " ['病院', 685],\n",
       " ['関係', 677],\n",
       " ['こんな', 671],\n",
       " ['yahoo', 642],\n",
       " ['営業', 639],\n",
       " ['nhk', 638],\n",
       " ['給付', 633],\n",
       " ['学校', 633],\n",
       " ['会社', 619],\n",
       " ['問題', 616],\n",
       " ['発表', 610],\n",
       " ['20', 609],\n",
       " ['国民', 606],\n",
       " ['うち', 600],\n",
       " ['予防', 595],\n",
       " ['良い', 594],\n",
       " ['死者', 587],\n",
       " ['収束', 586],\n",
       " ['たち', 578],\n",
       " ['可能', 576],\n",
       " ['大阪', 574],\n",
       " ['患者', 574],\n",
       " ['防止', 566],\n",
       " ['必要', 563],\n",
       " ['以上', 557],\n",
       " ['終息', 546],\n",
       " ['死亡', 541],\n",
       " ['外出', 535],\n",
       " ['30', 534],\n",
       " ['今年', 533],\n",
       " ['お願い', 531],\n",
       " ['多い', 515],\n",
       " ['デジタル', 506],\n",
       " ['消毒', 506],\n",
       " ['youtube', 505],\n",
       " ['今回', 504],\n",
       " ['なく', 501],\n",
       " ['関連', 501],\n",
       " ['開催', 501],\n",
       " ['社会', 497],\n",
       " ['朝日新聞', 495],\n",
       " ['更新', 493],\n",
       " ['ところ', 492],\n",
       " ['本当に', 487],\n",
       " ['企業', 484],\n",
       " ['でも', 482],\n",
       " ['予定', 480],\n",
       " ['ネット', 479],\n",
       " ['明日', 473],\n",
       " ['ちゃん', 469],\n",
       " ['news', 464],\n",
       " ['国内', 463],\n",
       " ['どこ', 460],\n",
       " ['日本人', 460],\n",
       " ['最近', 458],\n",
       " ['募集', 454],\n",
       " ['毎日', 454],\n",
       " ['期間', 446],\n",
       " ['延期', 437],\n",
       " ['インフルエンザ', 435],\n",
       " ['なん', 433],\n",
       " ['欲しい', 433],\n",
       " ['新聞', 432],\n",
       " ['陽性', 431],\n",
       " ['ワクチン', 429],\n",
       " ['好き', 429],\n",
       " ['ヶ月', 428],\n",
       " ['専門', 425],\n",
       " ['アメリカ', 425],\n",
       " ['症状', 414],\n",
       " ['よく', 414],\n",
       " ['大変', 414],\n",
       " ['ここ', 410],\n",
       " ['同じ', 409],\n",
       " ['おはよう', 405],\n",
       " ['全国', 405],\n",
       " ['募金', 403],\n",
       " ['ほしい', 402],\n",
       " ['応援', 402],\n",
       " ['ライブ', 401],\n",
       " ['旅行', 401],\n",
       " ['本日', 395],\n",
       " ['少し', 390],\n",
       " ['あと', 389],\n",
       " ['絶対', 389],\n",
       " ['ありがとう', 389],\n",
       " ['危機', 386],\n",
       " ['そんな', 385],\n",
       " ['報道', 384],\n",
       " ['記事', 377],\n",
       " ['そして', 375],\n",
       " ['時代', 374],\n",
       " ['会議', 373],\n",
       " ['流行', 370],\n",
       " ['無料', 366],\n",
       " ['海外', 365],\n",
       " ['韓国', 365],\n",
       " ['不安', 364],\n",
       " ['昨日', 361],\n",
       " ['動画', 361],\n",
       " ['休業', 360],\n",
       " ['心配', 359],\n",
       " ['これから', 356],\n",
       " ['拡散', 356],\n",
       " ['北海道', 353],\n",
       " ['無い', 352],\n",
       " ['利用', 351],\n",
       " ['イベント', 350],\n",
       " ['多く', 348],\n",
       " ['風邪', 348],\n",
       " ['アルコール', 347],\n",
       " ['ちょっと', 346],\n",
       " ['効果', 346],\n",
       " ['発生', 345],\n",
       " ['活動', 345],\n",
       " ['匿名', 344],\n",
       " ['写真', 342],\n",
       " ['新しい', 342],\n",
       " ['結果', 338],\n",
       " ['ショック', 338],\n",
       " ['感じ', 336],\n",
       " ['大丈夫', 335],\n",
       " ['配信', 335],\n",
       " ['政権', 333],\n",
       " ['週間', 328],\n",
       " ['花火', 326],\n",
       " ['リスク', 326],\n",
       " ['12', 322],\n",
       " ['わけ', 322],\n",
       " ['理由', 321],\n",
       " ['北九州', 320],\n",
       " ['意味', 320],\n",
       " ['現在', 319],\n",
       " ['テレビ', 318],\n",
       " ['25', 318],\n",
       " ['なし', 317],\n",
       " ['普通', 317],\n",
       " ['21', 316],\n",
       " ['従事', 316],\n",
       " ['日本経済新聞', 316],\n",
       " ['治療', 315],\n",
       " ['電車', 314],\n",
       " ['自宅', 314],\n",
       " ['時期', 312],\n",
       " ['11', 310],\n",
       " ['速報', 306],\n",
       " ['観光', 303],\n",
       " ['調査', 301],\n",
       " ['個人', 300],\n",
       " ['人間', 300],\n",
       " ['在宅', 300],\n",
       " ['中国人', 298],\n",
       " ['休み', 296],\n",
       " ['事業', 295],\n",
       " ['15', 294],\n",
       " ['100', 294],\n",
       " ['選手', 293],\n",
       " ['首相', 292],\n",
       " ['政治', 290],\n",
       " ['24', 290],\n",
       " ['感謝', 290],\n",
       " ['やっぱり', 288],\n",
       " ['インフル', 287],\n",
       " ['もっと', 286],\n",
       " ['色々', 286],\n",
       " ['お金', 284],\n",
       " ['楽しみ', 284],\n",
       " ['施設', 284],\n",
       " ['接触', 283],\n",
       " ['皆様', 283],\n",
       " ['気持ち', 283],\n",
       " ['免疫', 282],\n",
       " ['差別', 282],\n",
       " ['いつも', 279],\n",
       " ['悪い', 279],\n",
       " ['who', 278],\n",
       " ['ただ', 277],\n",
       " ['アフター', 276],\n",
       " ['今後', 276],\n",
       " ['知事', 276],\n",
       " ['ぶり', 275],\n",
       " ['研究', 274],\n",
       " ['gt', 274],\n",
       " ['健康', 274],\n",
       " ['皆さん', 273],\n",
       " ['家族', 272],\n",
       " ['女性', 268],\n",
       " ['23', 268],\n",
       " ['医師', 268],\n",
       " ['寄付', 267],\n",
       " ['無理', 267],\n",
       " ['ずっと', 267],\n",
       " ['勤務', 266],\n",
       " ['完全', 266],\n",
       " ['少ない', 266],\n",
       " ['22', 265],\n",
       " ['飲食', 265],\n",
       " ['開発', 264],\n",
       " ['開始', 264],\n",
       " ['手洗い', 264],\n",
       " ['着用', 264],\n",
       " ['公開', 263],\n",
       " ['14', 262],\n",
       " ['安全', 261],\n",
       " ['00', 261],\n",
       " ['子供', 259],\n",
       " ['高い', 256],\n",
       " ['とき', 256],\n",
       " ['sns', 255],\n",
       " ['京都', 251],\n",
       " ['18', 251],\n",
       " ['すぐ', 251],\n",
       " ['電話', 250],\n",
       " ['まま', 250],\n",
       " ['全て', 250],\n",
       " ['以外', 250],\n",
       " ['状態', 249],\n",
       " ['制限', 249],\n",
       " ['はず', 249],\n",
       " ['地域', 248],\n",
       " ['申請', 248],\n",
       " ['rt', 247],\n",
       " ['映画', 246],\n",
       " ['やつ', 245],\n",
       " ['販売', 245],\n",
       " ['マジ', 243],\n",
       " ['要請', 243],\n",
       " ['東洋', 243],\n",
       " ['良かっ', 241],\n",
       " ['安心', 241],\n",
       " ['なんか', 240],\n",
       " ['注意', 239]]"
      ]
     },
     "execution_count": 102,
     "metadata": {},
     "output_type": "execute_result"
    }
   ],
   "source": [
    "top100"
   ]
  },
  {
   "cell_type": "code",
   "execution_count": null,
   "id": "28cd9ad2-7735-4c9b-89f3-60ab5b5d23a1",
   "metadata": {},
   "outputs": [],
   "source": []
  }
 ],
 "metadata": {
  "kernelspec": {
   "display_name": "Python 3",
   "language": "python",
   "name": "python3"
  },
  "language_info": {
   "codemirror_mode": {
    "name": "ipython",
    "version": 3
   },
   "file_extension": ".py",
   "mimetype": "text/x-python",
   "name": "python",
   "nbconvert_exporter": "python",
   "pygments_lexer": "ipython3",
   "version": "3.8.8"
  }
 },
 "nbformat": 4,
 "nbformat_minor": 5
}
