{
 "cells": [
  {
   "cell_type": "code",
   "execution_count": 7,
   "id": "2de16780-2e37-4780-bc2d-a75276b35b1d",
   "metadata": {},
   "outputs": [
    {
     "name": "stdout",
     "output_type": "stream",
     "text": [
      "['texts_list_00000_00882.joblib', 'texts_list_00883_01781.joblib', 'texts_list_01782_02680.joblib', 'texts_list_02681_03578.joblib', 'texts_list_03579_04476.joblib', 'texts_list_04477_05374.joblib', 'texts_list_05375_06271.joblib', 'texts_list_06272_07169.joblib', 'texts_list_07170_08067.joblib', 'texts_list_08068_08965.joblib', 'texts_list_08966_09863.joblib', 'texts_list_09864_10761.joblib', 'texts_list_10762_11659.joblib', 'texts_list_11660_12557.joblib', 'texts_list_12558_13455.joblib', 'texts_list_13456_14353.joblib', 'texts_list_14354_15251.joblib', 'texts_list_15252_16149.joblib', 'texts_list_16150_17047.joblib', 'texts_list_17048_17945.joblib', 'texts_list_17946_18843.joblib', 'texts_list_18844_19741.joblib', 'texts_list_19742_20639.joblib', 'texts_list_20640_21537.joblib', 'texts_list_21538_22435.joblib', 'texts_list_22436_23333.joblib', 'texts_list_23334_24231.joblib', 'texts_list_24232_25129.joblib', 'texts_list_25130_26027.joblib', 'texts_list_26028_26925.joblib', 'texts_list_26926_27823.joblib', 'texts_list_27824_28721.joblib', 'texts_list_28722_29619.joblib', 'texts_list_29620_30517.joblib', 'texts_list_30518_31415.joblib', 'texts_list_31416_32313.joblib', 'texts_list_32314_33211.joblib', 'texts_list_33212_34109.joblib', 'texts_list_34110_35007.joblib', 'texts_list_35008_35905.joblib', 'texts_list_35906_36803.joblib', 'texts_list_36804_37701.joblib', 'texts_list_37702_38599.joblib', 'texts_list_38600_39497.joblib', 'texts_list_39498_40395.joblib', 'texts_list_40396_41293.joblib', 'texts_list_41294_42191.joblib', 'texts_list_42192_43089.joblib', 'texts_list_43090_43987.joblib', 'texts_list_43988_44885.joblib', 'texts_list_44886_45783.joblib', 'texts_list_45784_46681.joblib', 'texts_list_46682_47579.joblib', 'texts_list_47580_48477.joblib', 'texts_list_48478_49375.joblib', 'texts_list_49376_50273.joblib', 'texts_list_50274_51171.joblib', 'texts_list_51172_52069.joblib', 'texts_list_52070_52967.joblib', 'texts_list_52968_53639.joblib', 'texts_list_53640_53639.joblib']\n"
     ]
    }
   ],
   "source": [
    "import os\n",
    "\n",
    "texts_file = sorted(os.listdir('texts_data'))\n",
    "print(texts_file)"
   ]
  },
  {
   "cell_type": "code",
   "execution_count": 26,
   "id": "b646074f-b4d5-430a-afb6-e7d4cbfea2f0",
   "metadata": {},
   "outputs": [
    {
     "data": {
      "text/plain": [
       "53959"
      ]
     },
     "execution_count": 26,
     "metadata": {},
     "output_type": "execute_result"
    }
   ],
   "source": [
    "from lists_file import dumpJoblib, loadJoblib\n",
    "\n",
    "texts_datas = []\n",
    "\n",
    "for file_name in texts_file:\n",
    "    texts_data = loadJoblib('texts_data/' + file_name)\n",
    "    texts_datas += texts_data\n",
    "    \n",
    "dumpJoblib('all_textdata.joblib', texts_datas)\n",
    "len(texts_datas)"
   ]
  },
  {
   "cell_type": "code",
   "execution_count": 15,
   "id": "f7c92b06-32fe-48ba-92e5-96a934c9ad18",
   "metadata": {},
   "outputs": [
    {
     "name": "stdout",
     "output_type": "stream",
     "text": [
      "53639\n"
     ]
    }
   ],
   "source": [
    "import pandas as pd\n",
    "\n",
    "df = pd.read_csv('covid19.csv')\n",
    "print(len(df))"
   ]
  },
  {
   "cell_type": "code",
   "execution_count": 24,
   "id": "65067bb5-fbf7-4301-8361-07b661b9b273",
   "metadata": {},
   "outputs": [],
   "source": [
    "# df.iloc[-20:]"
   ]
  },
  {
   "cell_type": "code",
   "execution_count": 25,
   "id": "38085db0-6eb3-457b-8af8-598666ebd454",
   "metadata": {},
   "outputs": [],
   "source": [
    "# texts_datas[-20:]"
   ]
  },
  {
   "cell_type": "code",
   "execution_count": 32,
   "id": "de4d1f70-ca7a-4c54-a731-a9fb7427a7d8",
   "metadata": {},
   "outputs": [],
   "source": [
    "real_data = []\n",
    "\n",
    "for tweet in texts_datas:\n",
    "    if tweet is not None:\n",
    "        real_data.append(tweet)"
   ]
  },
  {
   "cell_type": "code",
   "execution_count": 36,
   "id": "31d53cbd-925b-4b15-9625-913ccbba043e",
   "metadata": {},
   "outputs": [
    {
     "name": "stdout",
     "output_type": "stream",
     "text": [
      "全データの件数:53959\n",
      "現存するデータの数：39811\n",
      "現存するデータの中の重複：2264\n"
     ]
    }
   ],
   "source": [
    "print(f'全データの件数:{len(texts_datas)}')\n",
    "print(f'現存するデータの数：{len(real_data)}')\n",
    "print(f'現存するデータの中の重複：{len(real_data) - len(set(real_data))}')"
   ]
  },
  {
   "cell_type": "code",
   "execution_count": null,
   "id": "3e3e42a9-697b-4ae6-aa43-9bf1581cdbc4",
   "metadata": {},
   "outputs": [],
   "source": []
  }
 ],
 "metadata": {
  "kernelspec": {
   "display_name": "Python 3",
   "language": "python",
   "name": "python3"
  },
  "language_info": {
   "codemirror_mode": {
    "name": "ipython",
    "version": 3
   },
   "file_extension": ".py",
   "mimetype": "text/x-python",
   "name": "python",
   "nbconvert_exporter": "python",
   "pygments_lexer": "ipython3",
   "version": "3.8.8"
  }
 },
 "nbformat": 4,
 "nbformat_minor": 5
}
