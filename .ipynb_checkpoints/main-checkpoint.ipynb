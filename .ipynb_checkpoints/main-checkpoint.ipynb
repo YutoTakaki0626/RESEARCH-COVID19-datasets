{
 "cells": [
  {
   "cell_type": "code",
   "execution_count": 20,
   "id": "29dd6d32-7e1c-4b8c-80e5-254ef33cc691",
   "metadata": {},
   "outputs": [
    {
     "name": "stdout",
     "output_type": "stream",
     "text": [
      "The autoreload extension is already loaded. To reload it, use:\n",
      "  %reload_ext autoreload\n"
     ]
    }
   ],
   "source": [
    "%load_ext autoreload\n",
    "%autoreload 2"
   ]
  },
  {
   "cell_type": "code",
   "execution_count": 2,
   "id": "e70057a9-d7af-4bcc-b37c-52ec5c02887c",
   "metadata": {},
   "outputs": [],
   "source": [
    "import matplotlib.pyplot as plt\n",
    "import seaborn as sns\n",
    "\n",
    "%matplotlib inline\n",
    "sns.set()"
   ]
  },
  {
   "cell_type": "code",
   "execution_count": 9,
   "id": "801138eb-72b0-41e2-b83f-32605cf7a1c9",
   "metadata": {},
   "outputs": [],
   "source": [
    "from lists_file import *\n",
    "tweets_list = loadJoblib(\"unique_textdata.joblib\")\n",
    "tweets_list = list(tweets_list.values())"
   ]
  },
  {
   "cell_type": "code",
   "execution_count": 11,
   "id": "7f4bf92f-db85-4e0d-8d6b-64e79a569ba8",
   "metadata": {},
   "outputs": [],
   "source": [
    "import count\n",
    "\n",
    "cnt = count.Count()\n",
    "\n",
    "# user mention\n",
    "user_mention_cnt, user_mention_list = cnt.user_mention(tweets_list)\n",
    "\n",
    "# url\n",
    "url_cnt, url_list = cnt.url(tweets_list)\n",
    "\n",
    "# hashtag\n",
    "hashtag_cnt, hashtag_list = cnt.hashtag(tweets_list)\n",
    "\n",
    "# www\n",
    "w_cnt, w_list = cnt.www(tweets_list)\n",
    "\n",
    "# not_single\n",
    "not_single_cnt, not_single_list = cnt.not_single(tweets_list)\n",
    "\n",
    "# mixed tweet\n",
    "contained_cnt, contained_list = cnt.mixed_tweet(tweets_list)\n",
    "\n",
    "# emoji\n",
    "emojis_cnt, emojis_list = cnt.emojis(tweets_list)"
   ]
  },
  {
   "cell_type": "code",
   "execution_count": 23,
   "id": "11211f9a-817e-4c99-8a8f-f7810d2385b9",
   "metadata": {},
   "outputs": [
    {
     "ename": "AttributeError",
     "evalue": "'Count' object has no attribute 'covid19'",
     "output_type": "error",
     "traceback": [
      "\u001b[0;31m---------------------------------------------------------------------------\u001b[0m",
      "\u001b[0;31mAttributeError\u001b[0m                            Traceback (most recent call last)",
      "\u001b[0;32m<ipython-input-23-5abaa063c912>\u001b[0m in \u001b[0;36m<module>\u001b[0;34m\u001b[0m\n\u001b[1;32m      1\u001b[0m \u001b[0;31m# covid19\u001b[0m\u001b[0;34m\u001b[0m\u001b[0;34m\u001b[0m\u001b[0;34m\u001b[0m\u001b[0m\n\u001b[1;32m      2\u001b[0m \u001b[0mcount1\u001b[0m \u001b[0;34m=\u001b[0m \u001b[0mcount\u001b[0m\u001b[0;34m.\u001b[0m\u001b[0mCount\u001b[0m\u001b[0;34m(\u001b[0m\u001b[0;34m)\u001b[0m\u001b[0;34m\u001b[0m\u001b[0;34m\u001b[0m\u001b[0m\n\u001b[0;32m----> 3\u001b[0;31m \u001b[0mcovid_cnt\u001b[0m\u001b[0;34m,\u001b[0m \u001b[0mcovid_list\u001b[0m \u001b[0;34m=\u001b[0m \u001b[0mcount1\u001b[0m\u001b[0;34m.\u001b[0m\u001b[0mcovid19\u001b[0m\u001b[0;34m(\u001b[0m\u001b[0mtweets_list\u001b[0m\u001b[0;34m)\u001b[0m\u001b[0;34m\u001b[0m\u001b[0;34m\u001b[0m\u001b[0m\n\u001b[0m\u001b[1;32m      4\u001b[0m \u001b[0mcovid_cnt\u001b[0m\u001b[0;34m\u001b[0m\u001b[0;34m\u001b[0m\u001b[0m\n",
      "\u001b[0;31mAttributeError\u001b[0m: 'Count' object has no attribute 'covid19'"
     ]
    }
   ],
   "source": [
    "# covid19\n",
    "count1 = count.Count()\n",
    "covid_cnt, covid_list = count1.covid19(tweets_list)\n",
    "covid_cnt"
   ]
  },
  {
   "cell_type": "code",
   "execution_count": 13,
   "id": "c740f6cb-8a0c-42e2-8cbf-0805e70b30be",
   "metadata": {},
   "outputs": [
    {
     "name": "stderr",
     "output_type": "stream",
     "text": [
      "/home/takakiyuto/anaconda3/lib/python3.8/site-packages/seaborn/_decorators.py:36: FutureWarning: Pass the following variables as keyword args: x, y. From version 0.12, the only valid positional argument will be `data`, and passing other arguments without an explicit keyword will result in an error or misinterpretation.\n",
      "  warnings.warn(\n"
     ]
    },
    {
     "data": {
      "image/png": "[encoded data removed]",
      "text/plain": [
       "<Figure size 432x288 with 1 Axes>"
      ]
     },
     "metadata": {},
     "output_type": "display_data"
    }
   ],
   "source": [
    "x = ['User Mention', 'emoji', 'URL', 'Hashtag', 'alphabet\\n(removed \\n #----  )' ]\n",
    "y = [user_mention_cnt, emojis_cnt, url_cnt, hashtag_cnt, contained_cnt]\n",
    "\n",
    "figure = sns.barplot(x, y).get_figure()\n",
    "figure.savefig('result1')"
   ]
  },
  {
   "cell_type": "code",
   "execution_count": 14,
   "id": "ebe5b331-99c9-4dbf-88de-e8ba1d25d1b6",
   "metadata": {},
   "outputs": [
    {
     "name": "stderr",
     "output_type": "stream",
     "text": [
      "/home/takakiyuto/anaconda3/lib/python3.8/site-packages/seaborn/_decorators.py:36: FutureWarning: Pass the following variables as keyword args: x, y. From version 0.12, the only valid positional argument will be `data`, and passing other arguments without an explicit keyword will result in an error or misinterpretation.\n",
      "  warnings.warn(\n"
     ]
    },
    {
     "data": {
      "image/png": "[encoded data removed]",
      "text/plain": [
       "<Figure size 432x288 with 1 Axes>"
      ]
     },
     "metadata": {},
     "output_type": "display_data"
    }
   ],
   "source": [
    "x = ['alphabet', 'alphabet\\n(removed \\n #----  )', 'using \\'w\\'', 'using  \\n 2 alphabets \\n or more' ]\n",
    "y = [contained_cnt, contained_cnt, w_cnt, not_single_cnt]\n",
    "\n",
    "figure = sns.barplot(x, y).get_figure()\n",
    "#figure.savefig('result2')"
   ]
  },
  {
   "cell_type": "code",
   "execution_count": null,
   "id": "d1dbd389-1855-4b4d-bee5-ebaae2c2c284",
   "metadata": {},
   "outputs": [],
   "source": [
    "import remove\n",
    "\n",
    "rm = remove.Remove()\n",
    "\n",
    "# "
   ]
  }
 ],
 "metadata": {
  "kernelspec": {
   "display_name": "Python 3",
   "language": "python",
   "name": "python3"
  },
  "language_info": {
   "codemirror_mode": {
    "name": "ipython",
    "version": 3
   },
   "file_extension": ".py",
   "mimetype": "text/x-python",
   "name": "python",
   "nbconvert_exporter": "python",
   "pygments_lexer": "ipython3",
   "version": "3.8.8"
  }
 },
 "nbformat": 4,
 "nbformat_minor": 5
}
