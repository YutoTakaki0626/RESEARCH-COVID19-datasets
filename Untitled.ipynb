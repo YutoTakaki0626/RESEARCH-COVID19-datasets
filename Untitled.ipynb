{
 "cells": [
  {
   "cell_type": "code",
   "execution_count": 4,
   "id": "80991c74-b971-4aed-81ce-9cf71b3a4bac",
   "metadata": {},
   "outputs": [],
   "source": [
    "from lists_file import *\n",
    "tweets_list = loadJoblib(\"unique_textdata.joblib\")\n",
    "tweets_list = list(tweets_list.values())"
   ]
  },
  {
   "cell_type": "code",
   "execution_count": 5,
   "id": "f596b4a0-a1dd-48a3-8d64-1dc781dbda13",
   "metadata": {},
   "outputs": [
    {
     "data": {
      "text/plain": [
       "2541"
      ]
     },
     "execution_count": 5,
     "metadata": {},
     "output_type": "execute_result"
    }
   ],
   "source": [
    "import count\n",
    "count1 = count.Count()\n",
    "covid_cnt, covid_list = count1.covid19(tweets_list)\n",
    "covid_cnt"
   ]
  },
  {
   "cell_type": "code",
   "execution_count": null,
   "id": "168d46cd-4202-462b-885a-26b96064ab39",
   "metadata": {},
   "outputs": [],
   "source": []
  }
 ],
 "metadata": {
  "kernelspec": {
   "display_name": "Python 3",
   "language": "python",
   "name": "python3"
  },
  "language_info": {
   "codemirror_mode": {
    "name": "ipython",
    "version": 3
   },
   "file_extension": ".py",
   "mimetype": "text/x-python",
   "name": "python",
   "nbconvert_exporter": "python",
   "pygments_lexer": "ipython3",
   "version": "3.8.8"
  }
 },
 "nbformat": 4,
 "nbformat_minor": 5
}
