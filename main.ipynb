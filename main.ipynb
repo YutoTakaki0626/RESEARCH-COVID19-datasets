{
 "cells": [
  {
   "cell_type": "code",
   "execution_count": 1,
   "id": "d5c225ef-fb53-42a4-aa5e-13f8e1fed1b7",
   "metadata": {},
   "outputs": [],
   "source": [
    "%load_ext autoreload\n",
    "%autoreload 2"
   ]
  },
  {
   "cell_type": "code",
   "execution_count": 2,
   "id": "09c5d08a-2705-4e81-a9b2-f12662abecf0",
   "metadata": {},
   "outputs": [
    {
     "name": "stdout",
     "output_type": "stream",
     "text": [
      "Requirement already satisfied: tweepy in /home/takakiyuto/anaconda3/lib/python3.8/site-packages (3.10.0)\n",
      "Requirement already satisfied: requests-oauthlib>=0.7.0 in /home/takakiyuto/anaconda3/lib/python3.8/site-packages (from tweepy) (1.3.0)\n",
      "Requirement already satisfied: requests[socks]>=2.11.1 in /home/takakiyuto/anaconda3/lib/python3.8/site-packages (from tweepy) (2.25.1)\n",
      "Requirement already satisfied: six>=1.10.0 in /home/takakiyuto/anaconda3/lib/python3.8/site-packages (from tweepy) (1.15.0)\n",
      "Requirement already satisfied: oauthlib>=3.0.0 in /home/takakiyuto/anaconda3/lib/python3.8/site-packages (from requests-oauthlib>=0.7.0->tweepy) (3.1.1)\n",
      "Requirement already satisfied: idna<3,>=2.5 in /home/takakiyuto/anaconda3/lib/python3.8/site-packages (from requests[socks]>=2.11.1->tweepy) (2.10)\n",
      "Requirement already satisfied: urllib3<1.27,>=1.21.1 in /home/takakiyuto/anaconda3/lib/python3.8/site-packages (from requests[socks]>=2.11.1->tweepy) (1.26.4)\n",
      "Requirement already satisfied: certifi>=2017.4.17 in /home/takakiyuto/anaconda3/lib/python3.8/site-packages (from requests[socks]>=2.11.1->tweepy) (2020.12.5)\n",
      "Requirement already satisfied: chardet<5,>=3.0.2 in /home/takakiyuto/anaconda3/lib/python3.8/site-packages (from requests[socks]>=2.11.1->tweepy) (4.0.0)\n",
      "Requirement already satisfied: PySocks!=1.5.7,>=1.5.6 in /home/takakiyuto/anaconda3/lib/python3.8/site-packages (from requests[socks]>=2.11.1->tweepy) (1.7.1)\n"
     ]
    }
   ],
   "source": [
    "!pip install tweepy"
   ]
  },
  {
   "cell_type": "code",
   "execution_count": 3,
   "id": "332aba59-7a48-48f1-9a7d-ae6a8e49b2dd",
   "metadata": {},
   "outputs": [],
   "source": [
    "import numpy as np\n",
    "import pandas as pd\n",
    "import matplotlib.pyplot as plt\n",
    "import seaborn as sns\n",
    "\n",
    "%matplotlib inline\n",
    "sns.set()"
   ]
  },
  {
   "cell_type": "markdown",
   "id": "e4b87106-bc14-450b-847e-7f4d6d4c11c3",
   "metadata": {},
   "source": [
    "## Read COVID-19 dataset"
   ]
  },
  {
   "cell_type": "code",
   "execution_count": 4,
   "id": "29e85d86-afe8-46cf-93f6-18e7c369985b",
   "metadata": {},
   "outputs": [
    {
     "data": {
      "text/html": [
       "<div>\n",
       "<style scoped>\n",
       "    .dataframe tbody tr th:only-of-type {\n",
       "        vertical-align: middle;\n",
       "    }\n",
       "\n",
       "    .dataframe tbody tr th {\n",
       "        vertical-align: top;\n",
       "    }\n",
       "\n",
       "    .dataframe thead th {\n",
       "        text-align: right;\n",
       "    }\n",
       "</style>\n",
       "<table border=\"1\" class=\"dataframe\">\n",
       "  <thead>\n",
       "    <tr style=\"text-align: right;\">\n",
       "      <th></th>\n",
       "      <th>tweet_id</th>\n",
       "      <th>assessment_option_id</th>\n",
       "    </tr>\n",
       "  </thead>\n",
       "  <tbody>\n",
       "    <tr>\n",
       "      <th>0</th>\n",
       "      <td>1227261586521382913</td>\n",
       "      <td>63</td>\n",
       "    </tr>\n",
       "    <tr>\n",
       "      <th>1</th>\n",
       "      <td>1227435952961937413</td>\n",
       "      <td>65</td>\n",
       "    </tr>\n",
       "    <tr>\n",
       "      <th>2</th>\n",
       "      <td>1227510231569092610</td>\n",
       "      <td>63</td>\n",
       "    </tr>\n",
       "    <tr>\n",
       "      <th>3</th>\n",
       "      <td>1227527803312099328</td>\n",
       "      <td>63</td>\n",
       "    </tr>\n",
       "    <tr>\n",
       "      <th>4</th>\n",
       "      <td>1227549055724617728</td>\n",
       "      <td>67</td>\n",
       "    </tr>\n",
       "  </tbody>\n",
       "</table>\n",
       "</div>"
      ],
      "text/plain": [
       "              tweet_id  assessment_option_id\n",
       "0  1227261586521382913                    63\n",
       "1  1227435952961937413                    65\n",
       "2  1227510231569092610                    63\n",
       "3  1227527803312099328                    63\n",
       "4  1227549055724617728                    67"
      ]
     },
     "execution_count": 4,
     "metadata": {},
     "output_type": "execute_result"
    }
   ],
   "source": [
    "df = pd.read_csv('covid19.csv')\n",
    "print(len(df))\n",
    "df.head()"
   ]
  },
  {
   "cell_type": "code",
   "execution_count": 6,
   "id": "5a773012-f91e-4d2d-ac87-52245ad3b9b3",
   "metadata": {},
   "outputs": [],
   "source": [
    "tweet_id_list = list(df['tweet_id'])\n",
    "assessment_list = list(df['assessment_option_id'])"
   ]
  },
  {
   "cell_type": "markdown",
   "id": "44ddf3a8-3a98-4e5b-8b37-32e715a79eca",
   "metadata": {},
   "source": [
    "## Get twitter`s API"
   ]
  },
  {
   "cell_type": "code",
   "execution_count": 6,
   "id": "cc7600a6-97e2-41fb-b64c-4c866acd83ec",
   "metadata": {},
   "outputs": [],
   "source": [
    "# hidden \n",
    "API_KEY = \n",
    "API_SECRET_KEY = \n",
    "ACCESS_TOKEN = \n",
    "ACCESS_TOKEN_SECRET = "
   ]
  },
  {
   "cell_type": "code",
   "execution_count": 8,
   "id": "3dd52fd1-4b7e-4d2a-9aa9-33e6857de08c",
   "metadata": {},
   "outputs": [],
   "source": [
    "from api import twitter_api\n",
    "import random\n",
    "\n",
    "api = twitter_api(API_KEY, API_SECRET_KEY, ACCESS_TOKEN, ACCESS_TOKEN_SECRET)"
   ]
  },
  {
   "cell_type": "markdown",
   "id": "bbde7bee-f729-4b8b-a8a0-b8dd85f69e03",
   "metadata": {},
   "source": [
    "# System (from 'twitter_id' to 'text')"
   ]
  },
  {
   "cell_type": "code",
   "execution_count": 75,
   "id": "bd647aed-5a86-4997-b2b5-365945fdca12",
   "metadata": {},
   "outputs": [
    {
     "data": {
      "text/plain": [
       "'更新：WHOは新型コロナウイルスの正式名称を「COVID-19」とすると発表しました\\nhttps://t.co/zFQKGGXpse'"
      ]
     },
     "execution_count": 75,
     "metadata": {},
     "output_type": "execute_result"
    }
   ],
   "source": [
    "tweet = api.get_status(1227261586521382913)\n",
    "tweet.text"
   ]
  },
  {
   "cell_type": "code",
   "execution_count": 76,
   "id": "23f4e3d7-b590-4194-bcbc-9ab4492faba9",
   "metadata": {},
   "outputs": [
    {
     "name": "stdout",
     "output_type": "stream",
     "text": [
      "現在1回目の実行です\n",
      "現在100回目の実行です\n",
      "現在200回目の実行です\n",
      "現在300回目の実行です\n",
      "現在400回目の実行です\n",
      "現在500回目の実行です\n",
      "現在600回目の実行です\n",
      "現在700回目の実行です\n",
      "現在800回目の実行です\n"
     ]
    }
   ],
   "source": [
    "cnt = 0\n",
    "none_cnt = 0\n",
    "tweets_list = []\n",
    "\n",
    "for tweet_id in tweet_id_list[3579:(3579+898)]:\n",
    "#     if none_cnt > 10:\n",
    "#         break\n",
    "        \n",
    "    cnt += 1\n",
    "    if cnt % 100 == 0 or cnt == 1:\n",
    "        print(f'現在{cnt}回目の実行です')\n",
    "    \n",
    "    try:\n",
    "        tweet = api.get_status(tweet_id).text\n",
    "#         if tweet is None:\n",
    "#             none_cnt += 1\n",
    "#         else:\n",
    "#             none_cnt = 0\n",
    "        tweets_list.append(tweet)\n",
    "    except:\n",
    "#         none_cnt += 1\n",
    "        tweets_list.append(None)\n"
   ]
  },
  {
   "cell_type": "code",
   "execution_count": 77,
   "id": "5f669fab-c9ba-41d2-846b-20c26dbae78c",
   "metadata": {},
   "outputs": [
    {
     "name": "stdout",
     "output_type": "stream",
     "text": [
      "898\n"
     ]
    },
    {
     "data": {
      "text/plain": [
       "['クローネ、ハウマッチ！って番組思い出しました💦\\n今スウエーデン、コロナで大変なんですよね…\\nこんなに、非接触支払い進んでるのかあ。\\n最近、窓口のお客様のご要望多いんです。#ohayomorning',\n",
       " '新型コロナウイルス\\n\\nどのような業種が影響を受けているか？\\n\\n労働人口\\u3000\\u3000\\u3000\\u3000５６００万\\n非正規\\u3000\\u3000\\u3000\\u3000\\u3000２２００万\\nサラリーマン\\u3000\\u3000４８００万\\u3000\\u3000\\u3000\\u3000\\u3000\\n\\n公務員\\u3000\\u3000\\u3000\\u3000\\u3000\\u3000３４０万\\n建築建設業\\u3000\\u3000\\u3000\\u3000５００万\\n飲食業\\u3000\\u3000\\u3000\\u3000\\u3000\\u3000４４０万\\n\\n後は想像してみてくれ。',\n",
       " '今日、自分の誕生日って事忘れてた💦\\n今日から4勤やし😣\\nコロナのせいで、本当やったら土日京セラで祝って貰う予定やったのにー(´•ω•̥`)\\n今日は、仕事終わったら自分で餃子の皮🥟を使ってピザもどきでも作って食べよかな☺️ https://t.co/yjl9JU6aHe',\n",
       " 'GWどこかにいったやつがいる⇨コロナ感染⇨症状出る前に仕事に行く⇨感染増加⇨2週間経過⇨ちょくちょくコロナでる',\n",
       " None,\n",
       " '地方は人口に劣るから都市圏からひっぱる必要があったのに。地方の死待ったなし…。\\n\\nターゲットは地元客\\u3000観光の姿、コロナで変わる（時事通信）\\n#Yahooニュース\\nhttps://t.co/bEzEDWx3PB',\n",
       " '日本ではコロナよりも恐慌を招くほうが怖い\\n\\n基準を死亡者数にすると検知が遅くなるから、病床数または人工呼吸器の使用率が妥当かな。\\n第一波の結果としては記事の通りだろうけど、実態は何も検証できていない／していないからあまりナメてかか… https://t.co/b6ExVB5VXO',\n",
       " None,\n",
       " 'ドタバタしてる間に坂本と大城がコロナ陽性で草',\n",
       " 'JO1は本当はイベントする予定だったから、急遽吉本本社から簡易的な会場で、生放送になったんだもんしょうがないよね😅コロナがなければ、もっと盛大にデビューできたし、アジアファンミしてたかもしれないし。それにレーベルが別会社だし、そりゃ自社のアーティストより配偶されるのでは？']"
      ]
     },
     "execution_count": 77,
     "metadata": {},
     "output_type": "execute_result"
    }
   ],
   "source": [
    "print(len(tweets_list))\n",
    "tweets_list[-10:]"
   ]
  },
  {
   "cell_type": "code",
   "execution_count": 81,
   "id": "84534f88-a699-4f05-a390-37d08d5d6d2a",
   "metadata": {},
   "outputs": [],
   "source": [
    "from lists_file import dumpJoblib\n",
    "\n",
    "dumpJoblib('texts_list_03579_04476.joblib', tweets_list)"
   ]
  },
  {
   "cell_type": "code",
   "execution_count": 79,
   "id": "bdda04c1-04fc-429d-9e7c-935f87b29324",
   "metadata": {},
   "outputs": [
    {
     "data": {
      "text/plain": [
       "tweet_id                1268319847735193600\n",
       "assessment_option_id                     65\n",
       "Name: 4476, dtype: int64"
      ]
     },
     "execution_count": 79,
     "metadata": {},
     "output_type": "execute_result"
    }
   ],
   "source": [
    "df.iloc[3579+898-1]"
   ]
  },
  {
   "cell_type": "markdown",
   "id": "e0f1727c-5102-4906-84a1-880092b6d902",
   "metadata": {},
   "source": [
    "# Fully Automatic System (from 'twitter_id' to 'text')"
   ]
  },
  {
   "cell_type": "code",
   "execution_count": null,
   "id": "1111d0b3-3bff-429c-bf3b-c24dd2738103",
   "metadata": {},
   "outputs": [
    {
     "name": "stdout",
     "output_type": "stream",
     "text": [
      "1回目の実行です 　順調に進んでいます\n",
      "6272から7169のjoblibファイルを作成しました!!\n",
      "\n",
      "2回目の実行です 　順調に進んでいます\n",
      "7170から8067のjoblibファイルを作成しました!!\n",
      "\n",
      "3回目の実行です 　順調に進んでいます\n",
      "8068から8965のjoblibファイルを作成しました!!\n",
      "\n"
     ]
    }
   ],
   "source": [
    "import time\n",
    "\n",
    "epoch_cnt = 0\n",
    "limit_number = 898\n",
    "current_number = 6272\n",
    "final_number = 53639\n",
    "\n",
    "\n",
    "try:\n",
    "    while True:\n",
    "        inner_cnt = 0\n",
    "        epoch_cnt += 1\n",
    "        tweets_list = []\n",
    "        end_number = current_number + limit_number - 1\n",
    "\n",
    "        print(f'{epoch_cnt}回目の実行です ', end='')\n",
    "\n",
    "        if end_number > final_number:\n",
    "            end_number = final_number\n",
    "\n",
    "        for tweet_id in tweet_id_list[current_number:(end_number+1)]:\n",
    "            try:\n",
    "                inner_cnt += 1\n",
    "                if inner_cnt == 450:\n",
    "                    print('　順調に進んでいます')\n",
    "                tweet = api.get_status(tweet_id).text\n",
    "                tweets_list.append(tweet)\n",
    "            except:\n",
    "                tweets_list.append(None)\n",
    "\n",
    "\n",
    "        dumpJoblib(f'texts_list_{str(current_number)}_{str(end_number)}.joblib', tweets_list)    \n",
    "        print(f'{str(current_number)}から{str(end_number)}のjoblibファイルを作成しました!!\\n')\n",
    "\n",
    "        current_number = end_number + 1\n",
    "\n",
    "        time.sleep(60*15)\n",
    "        \n",
    "except:\n",
    "    print('エラーが発生しました!! 対処してください!! ')\n"
   ]
  },
  {
   "cell_type": "code",
   "execution_count": null,
   "id": "80cca329-3dc2-4d13-a1ec-360efdaffb7b",
   "metadata": {},
   "outputs": [],
   "source": [
    "24 * 4 * 900"
   ]
  }
 ],
 "metadata": {
  "kernelspec": {
   "display_name": "Python 3",
   "language": "python",
   "name": "python3"
  },
  "language_info": {
   "codemirror_mode": {
    "name": "ipython",
    "version": 3
   },
   "file_extension": ".py",
   "mimetype": "text/x-python",
   "name": "python",
   "nbconvert_exporter": "python",
   "pygments_lexer": "ipython3",
   "version": "3.8.8"
  }
 },
 "nbformat": 4,
 "nbformat_minor": 5
}
